{
 "cells": [
  {
   "cell_type": "code",
   "execution_count": 1,
   "metadata": {
    "_cell_guid": "b1076dfc-b9ad-4769-8c92-a6c4dae69d19",
    "_uuid": "8f2839f25d086af736a60e9eeb907d3b93b6e0e5",
    "execution": {
     "iopub.execute_input": "2021-11-18T05:35:08.657754Z",
     "iopub.status.busy": "2021-11-18T05:35:08.656928Z",
     "iopub.status.idle": "2021-11-18T05:35:08.667435Z",
     "shell.execute_reply": "2021-11-18T05:35:08.666460Z",
     "shell.execute_reply.started": "2021-11-18T05:35:08.657709Z"
    }
   },
   "outputs": [],
   "source": [
    "# This Python 3 environment comes with many helpful analytics libraries installed\n",
    "# It is defined by the kaggle/python Docker image: https://github.com/kaggle/docker-python\n",
    "# For example, here's several helpful packages to load\n",
    "\n",
    "import numpy as np # linear algebra\n",
    "import pandas as pd # data processing, CSV file I/O (e.g. pd.read_csv)\n",
    "\n",
    "# Input data files are available in the read-only \"../input/\" directory\n",
    "# For example, running this (by clicking run or pressing Shift+Enter) will list all files under the input directory\n",
    "\n",
    "import os\n",
    "for dirname, _, filenames in os.walk('/kaggle/input'):\n",
    "    for filename in filenames:\n",
    "        print(os.path.join(dirname, filename))\n",
    "\n",
    "# You can write up to 20GB to the current directory (/kaggle/working/) that gets preserved as output when you create a version using \"Save & Run All\" \n",
    "# You can also write temporary files to /kaggle/temp/, but they won't be saved outside of the current session"
   ]
  },
  {
   "cell_type": "code",
   "execution_count": 2,
   "metadata": {
    "execution": {
     "iopub.execute_input": "2021-11-18T05:35:18.771629Z",
     "iopub.status.busy": "2021-11-18T05:35:18.771328Z",
     "iopub.status.idle": "2021-11-18T05:35:18.776413Z",
     "shell.execute_reply": "2021-11-18T05:35:18.775739Z",
     "shell.execute_reply.started": "2021-11-18T05:35:18.771594Z"
    }
   },
   "outputs": [],
   "source": [
    "import numpy as np \n",
    "import pandas as pd \n",
    "import re\n",
    "from sklearn.feature_extraction.text import TfidfVectorizer\n",
    "from sklearn.metrics.pairwise import linear_kernel\n",
    "from nltk.tokenize import word_tokenize\n",
    "import seaborn as sns\n",
    "import matplotlib.pyplot as plt\n",
    "from scipy.sparse import csr_matrix"
   ]
  },
  {
   "cell_type": "code",
   "execution_count": 3,
   "metadata": {
    "execution": {
     "iopub.execute_input": "2021-11-18T05:35:22.091336Z",
     "iopub.status.busy": "2021-11-18T05:35:22.090784Z",
     "iopub.status.idle": "2021-11-18T05:35:41.167203Z",
     "shell.execute_reply": "2021-11-18T05:35:41.166173Z",
     "shell.execute_reply.started": "2021-11-18T05:35:22.091297Z"
    }
   },
   "outputs": [
    {
     "data": {
      "text/html": [
       "<div>\n",
       "<style scoped>\n",
       "    .dataframe tbody tr th:only-of-type {\n",
       "        vertical-align: middle;\n",
       "    }\n",
       "\n",
       "    .dataframe tbody tr th {\n",
       "        vertical-align: top;\n",
       "    }\n",
       "\n",
       "    .dataframe thead th {\n",
       "        text-align: right;\n",
       "    }\n",
       "</style>\n",
       "<table border=\"1\" class=\"dataframe\">\n",
       "  <thead>\n",
       "    <tr style=\"text-align: right;\">\n",
       "      <th></th>\n",
       "      <th>userId</th>\n",
       "      <th>movieId</th>\n",
       "      <th>rating</th>\n",
       "      <th>timestamp</th>\n",
       "    </tr>\n",
       "  </thead>\n",
       "  <tbody>\n",
       "    <tr>\n",
       "      <th>0</th>\n",
       "      <td>1</td>\n",
       "      <td>2</td>\n",
       "      <td>3.5</td>\n",
       "      <td>1112486027</td>\n",
       "    </tr>\n",
       "    <tr>\n",
       "      <th>1</th>\n",
       "      <td>1</td>\n",
       "      <td>29</td>\n",
       "      <td>3.5</td>\n",
       "      <td>1112484676</td>\n",
       "    </tr>\n",
       "    <tr>\n",
       "      <th>2</th>\n",
       "      <td>1</td>\n",
       "      <td>32</td>\n",
       "      <td>3.5</td>\n",
       "      <td>1112484819</td>\n",
       "    </tr>\n",
       "    <tr>\n",
       "      <th>3</th>\n",
       "      <td>1</td>\n",
       "      <td>47</td>\n",
       "      <td>3.5</td>\n",
       "      <td>1112484727</td>\n",
       "    </tr>\n",
       "    <tr>\n",
       "      <th>4</th>\n",
       "      <td>1</td>\n",
       "      <td>50</td>\n",
       "      <td>3.5</td>\n",
       "      <td>1112484580</td>\n",
       "    </tr>\n",
       "  </tbody>\n",
       "</table>\n",
       "</div>"
      ],
      "text/plain": [
       "   userId  movieId  rating   timestamp\n",
       "0       1        2     3.5  1112486027\n",
       "1       1       29     3.5  1112484676\n",
       "2       1       32     3.5  1112484819\n",
       "3       1       47     3.5  1112484727\n",
       "4       1       50     3.5  1112484580"
      ]
     },
     "execution_count": 3,
     "metadata": {},
     "output_type": "execute_result"
    }
   ],
   "source": [
    "rating = pd.read_csv('ml-20m/ratings.csv')\n",
    "rating.head()"
   ]
  },
  {
   "cell_type": "markdown",
   "metadata": {},
   "source": [
    "**Popularity-top 5**"
   ]
  },
  {
   "cell_type": "code",
   "execution_count": 4,
   "metadata": {
    "execution": {
     "iopub.execute_input": "2021-11-18T05:43:58.477626Z",
     "iopub.status.busy": "2021-11-18T05:43:58.476805Z",
     "iopub.status.idle": "2021-11-18T05:43:58.545176Z",
     "shell.execute_reply": "2021-11-18T05:43:58.544369Z",
     "shell.execute_reply.started": "2021-11-18T05:43:58.477574Z"
    }
   },
   "outputs": [
    {
     "data": {
      "text/html": [
       "<div>\n",
       "<style scoped>\n",
       "    .dataframe tbody tr th:only-of-type {\n",
       "        vertical-align: middle;\n",
       "    }\n",
       "\n",
       "    .dataframe tbody tr th {\n",
       "        vertical-align: top;\n",
       "    }\n",
       "\n",
       "    .dataframe thead th {\n",
       "        text-align: right;\n",
       "    }\n",
       "</style>\n",
       "<table border=\"1\" class=\"dataframe\">\n",
       "  <thead>\n",
       "    <tr style=\"text-align: right;\">\n",
       "      <th></th>\n",
       "      <th>movieId</th>\n",
       "      <th>title</th>\n",
       "      <th>genres</th>\n",
       "    </tr>\n",
       "  </thead>\n",
       "  <tbody>\n",
       "    <tr>\n",
       "      <th>0</th>\n",
       "      <td>1</td>\n",
       "      <td>Toy Story (1995)</td>\n",
       "      <td>Adventure|Animation|Children|Comedy|Fantasy</td>\n",
       "    </tr>\n",
       "    <tr>\n",
       "      <th>1</th>\n",
       "      <td>2</td>\n",
       "      <td>Jumanji (1995)</td>\n",
       "      <td>Adventure|Children|Fantasy</td>\n",
       "    </tr>\n",
       "    <tr>\n",
       "      <th>2</th>\n",
       "      <td>3</td>\n",
       "      <td>Grumpier Old Men (1995)</td>\n",
       "      <td>Comedy|Romance</td>\n",
       "    </tr>\n",
       "    <tr>\n",
       "      <th>3</th>\n",
       "      <td>4</td>\n",
       "      <td>Waiting to Exhale (1995)</td>\n",
       "      <td>Comedy|Drama|Romance</td>\n",
       "    </tr>\n",
       "    <tr>\n",
       "      <th>4</th>\n",
       "      <td>5</td>\n",
       "      <td>Father of the Bride Part II (1995)</td>\n",
       "      <td>Comedy</td>\n",
       "    </tr>\n",
       "  </tbody>\n",
       "</table>\n",
       "</div>"
      ],
      "text/plain": [
       "   movieId                               title  \\\n",
       "0        1                    Toy Story (1995)   \n",
       "1        2                      Jumanji (1995)   \n",
       "2        3             Grumpier Old Men (1995)   \n",
       "3        4            Waiting to Exhale (1995)   \n",
       "4        5  Father of the Bride Part II (1995)   \n",
       "\n",
       "                                        genres  \n",
       "0  Adventure|Animation|Children|Comedy|Fantasy  \n",
       "1                   Adventure|Children|Fantasy  \n",
       "2                               Comedy|Romance  \n",
       "3                         Comedy|Drama|Romance  \n",
       "4                                       Comedy  "
      ]
     },
     "execution_count": 4,
     "metadata": {},
     "output_type": "execute_result"
    }
   ],
   "source": [
    "movies = pd.read_csv('ml-20m/movies.csv')\n",
    "movies.head()"
   ]
  },
  {
   "cell_type": "code",
   "execution_count": 5,
   "metadata": {
    "execution": {
     "iopub.execute_input": "2021-11-18T05:55:39.887918Z",
     "iopub.status.busy": "2021-11-18T05:55:39.887183Z",
     "iopub.status.idle": "2021-11-18T05:55:43.650234Z",
     "shell.execute_reply": "2021-11-18T05:55:43.649540Z",
     "shell.execute_reply.started": "2021-11-18T05:55:39.887879Z"
    }
   },
   "outputs": [
    {
     "data": {
      "text/html": [
       "<div>\n",
       "<style scoped>\n",
       "    .dataframe tbody tr th:only-of-type {\n",
       "        vertical-align: middle;\n",
       "    }\n",
       "\n",
       "    .dataframe tbody tr th {\n",
       "        vertical-align: top;\n",
       "    }\n",
       "\n",
       "    .dataframe thead th {\n",
       "        text-align: right;\n",
       "    }\n",
       "</style>\n",
       "<table border=\"1\" class=\"dataframe\">\n",
       "  <thead>\n",
       "    <tr style=\"text-align: right;\">\n",
       "      <th></th>\n",
       "      <th>index</th>\n",
       "      <th>title</th>\n",
       "      <th>rating</th>\n",
       "      <th>genres</th>\n",
       "    </tr>\n",
       "  </thead>\n",
       "  <tbody>\n",
       "    <tr>\n",
       "      <th>0</th>\n",
       "      <td>10000131</td>\n",
       "      <td>Shine (1996)</td>\n",
       "      <td>5.0</td>\n",
       "      <td>Drama|Romance</td>\n",
       "    </tr>\n",
       "    <tr>\n",
       "      <th>1</th>\n",
       "      <td>2404986</td>\n",
       "      <td>Mr. Holland's Opus (1995)</td>\n",
       "      <td>5.0</td>\n",
       "      <td>Drama</td>\n",
       "    </tr>\n",
       "    <tr>\n",
       "      <th>2</th>\n",
       "      <td>2404972</td>\n",
       "      <td>Ransom (1996)</td>\n",
       "      <td>5.0</td>\n",
       "      <td>Crime|Thriller</td>\n",
       "    </tr>\n",
       "    <tr>\n",
       "      <th>3</th>\n",
       "      <td>18011371</td>\n",
       "      <td>Taxi Driver (1976)</td>\n",
       "      <td>5.0</td>\n",
       "      <td>Crime|Drama|Thriller</td>\n",
       "    </tr>\n",
       "    <tr>\n",
       "      <th>4</th>\n",
       "      <td>14582411</td>\n",
       "      <td>Treasure of the Sierra Madre, The (1948)</td>\n",
       "      <td>5.0</td>\n",
       "      <td>Action|Adventure|Drama|Western</td>\n",
       "    </tr>\n",
       "  </tbody>\n",
       "</table>\n",
       "</div>"
      ],
      "text/plain": [
       "      index                                     title  rating  \\\n",
       "0  10000131                              Shine (1996)     5.0   \n",
       "1   2404986                 Mr. Holland's Opus (1995)     5.0   \n",
       "2   2404972                             Ransom (1996)     5.0   \n",
       "3  18011371                        Taxi Driver (1976)     5.0   \n",
       "4  14582411  Treasure of the Sierra Madre, The (1948)     5.0   \n",
       "\n",
       "                           genres  \n",
       "0                   Drama|Romance  \n",
       "1                           Drama  \n",
       "2                  Crime|Thriller  \n",
       "3            Crime|Drama|Thriller  \n",
       "4  Action|Adventure|Drama|Western  "
      ]
     },
     "execution_count": 5,
     "metadata": {},
     "output_type": "execute_result"
    }
   ],
   "source": [
    "top_movies = rating.sort_values('rating', ascending=False)\n",
    "tp=top_movies.head()\n",
    "\n",
    "Final_popular=tp.join(movies.set_index('movieId'), on='movieId',how='inner')[['title','rating','genres']]\n",
    "\n",
    "Final_popular.reset_index(level=0,inplace= True)\n",
    "Final_popular"
   ]
  },
  {
   "cell_type": "code",
   "execution_count": 9,
   "metadata": {
    "execution": {
     "iopub.execute_input": "2021-11-18T05:58:01.957352Z",
     "iopub.status.busy": "2021-11-18T05:58:01.956552Z",
     "iopub.status.idle": "2021-11-18T05:58:01.962373Z",
     "shell.execute_reply": "2021-11-18T05:58:01.961679Z",
     "shell.execute_reply.started": "2021-11-18T05:58:01.957306Z"
    }
   },
   "outputs": [
    {
     "name": "stdout",
     "output_type": "stream",
     "text": [
      "Number of Rows: 20000263\n",
      "Number of Columns: 4\n"
     ]
    }
   ],
   "source": [
    "print(\"Number of Rows:\", rating.shape[0])\n",
    "print(\"Number of Columns:\", rating.shape[1])"
   ]
  },
  {
   "cell_type": "code",
   "execution_count": 10,
   "metadata": {
    "execution": {
     "iopub.execute_input": "2021-11-18T05:58:04.621178Z",
     "iopub.status.busy": "2021-11-18T05:58:04.620475Z",
     "iopub.status.idle": "2021-11-18T05:58:04.627720Z",
     "shell.execute_reply": "2021-11-18T05:58:04.626948Z",
     "shell.execute_reply.started": "2021-11-18T05:58:04.621135Z"
    }
   },
   "outputs": [
    {
     "name": "stdout",
     "output_type": "stream",
     "text": [
      "Number of Rows: 27278\n",
      "Number of Columns: 3\n"
     ]
    }
   ],
   "source": [
    "print(\"Number of Rows:\", movies.shape[0])\n",
    "print(\"Number of Columns:\", movies.shape[1])"
   ]
  },
  {
   "cell_type": "markdown",
   "metadata": {},
   "source": [
    "**Unique users**"
   ]
  },
  {
   "cell_type": "code",
   "execution_count": 11,
   "metadata": {
    "execution": {
     "iopub.execute_input": "2021-11-18T05:58:07.166051Z",
     "iopub.status.busy": "2021-11-18T05:58:07.165493Z",
     "iopub.status.idle": "2021-11-18T05:58:07.276244Z",
     "shell.execute_reply": "2021-11-18T05:58:07.275540Z",
     "shell.execute_reply.started": "2021-11-18T05:58:07.166009Z"
    }
   },
   "outputs": [
    {
     "data": {
      "text/plain": [
       "138493"
      ]
     },
     "execution_count": 11,
     "metadata": {},
     "output_type": "execute_result"
    }
   ],
   "source": [
    "n_users = rating.userId.unique().shape[0]\n",
    "n_users"
   ]
  },
  {
   "cell_type": "markdown",
   "metadata": {},
   "source": [
    "**How many unique items / movies?**"
   ]
  },
  {
   "cell_type": "code",
   "execution_count": 12,
   "metadata": {
    "execution": {
     "iopub.execute_input": "2021-11-18T05:58:10.186512Z",
     "iopub.status.busy": "2021-11-18T05:58:10.186167Z",
     "iopub.status.idle": "2021-11-18T05:58:10.385592Z",
     "shell.execute_reply": "2021-11-18T05:58:10.384865Z",
     "shell.execute_reply.started": "2021-11-18T05:58:10.186475Z"
    }
   },
   "outputs": [
    {
     "data": {
      "text/plain": [
       "26744"
      ]
     },
     "execution_count": 12,
     "metadata": {},
     "output_type": "execute_result"
    }
   ],
   "source": [
    "n_items = rating.movieId.unique().shape[0]\n",
    "n_items"
   ]
  },
  {
   "cell_type": "markdown",
   "metadata": {},
   "source": [
    "**Feature Extraction for content filtering** "
   ]
  },
  {
   "cell_type": "code",
   "execution_count": 13,
   "metadata": {
    "execution": {
     "iopub.execute_input": "2021-11-18T05:59:07.577198Z",
     "iopub.status.busy": "2021-11-18T05:59:07.576604Z",
     "iopub.status.idle": "2021-11-18T05:59:20.329182Z",
     "shell.execute_reply": "2021-11-18T05:59:20.328442Z",
     "shell.execute_reply.started": "2021-11-18T05:59:07.577156Z"
    }
   },
   "outputs": [
    {
     "name": "stderr",
     "output_type": "stream",
     "text": [
      "/Users/harshwardhanbabel/opt/anaconda3/lib/python3.8/site-packages/pandas/core/indexing.py:1637: SettingWithCopyWarning: \n",
      "A value is trying to be set on a copy of a slice from a DataFrame\n",
      "\n",
      "See the caveats in the documentation: https://pandas.pydata.org/pandas-docs/stable/user_guide/indexing.html#returning-a-view-versus-a-copy\n",
      "  self._setitem_single_block(indexer, value, name)\n"
     ]
    }
   ],
   "source": [
    "import re\n",
    "movies['Split']=\"X\"\n",
    "for i in range(0,movies.index[-1]):\n",
    "    split_data=re.split(r'[|]', movies['genres'][i])\n",
    "    for k,l in enumerate(split_data):\n",
    "        split_data[k]=(split_data[k].replace(\" \", \"\"))\n",
    "    split_data=' '.join(split_data[:])\n",
    "    movies['Split'].iloc[i]=split_data"
   ]
  },
  {
   "cell_type": "code",
   "execution_count": 14,
   "metadata": {
    "execution": {
     "iopub.execute_input": "2021-11-18T05:59:23.984273Z",
     "iopub.status.busy": "2021-11-18T05:59:23.983579Z",
     "iopub.status.idle": "2021-11-18T05:59:23.995461Z",
     "shell.execute_reply": "2021-11-18T05:59:23.994696Z",
     "shell.execute_reply.started": "2021-11-18T05:59:23.984230Z"
    }
   },
   "outputs": [
    {
     "data": {
      "text/html": [
       "<div>\n",
       "<style scoped>\n",
       "    .dataframe tbody tr th:only-of-type {\n",
       "        vertical-align: middle;\n",
       "    }\n",
       "\n",
       "    .dataframe tbody tr th {\n",
       "        vertical-align: top;\n",
       "    }\n",
       "\n",
       "    .dataframe thead th {\n",
       "        text-align: right;\n",
       "    }\n",
       "</style>\n",
       "<table border=\"1\" class=\"dataframe\">\n",
       "  <thead>\n",
       "    <tr style=\"text-align: right;\">\n",
       "      <th></th>\n",
       "      <th>movieId</th>\n",
       "      <th>title</th>\n",
       "      <th>genres</th>\n",
       "      <th>Split</th>\n",
       "    </tr>\n",
       "  </thead>\n",
       "  <tbody>\n",
       "    <tr>\n",
       "      <th>0</th>\n",
       "      <td>1</td>\n",
       "      <td>Toy Story (1995)</td>\n",
       "      <td>Adventure|Animation|Children|Comedy|Fantasy</td>\n",
       "      <td>Adventure Animation Children Comedy Fantasy</td>\n",
       "    </tr>\n",
       "    <tr>\n",
       "      <th>1</th>\n",
       "      <td>2</td>\n",
       "      <td>Jumanji (1995)</td>\n",
       "      <td>Adventure|Children|Fantasy</td>\n",
       "      <td>Adventure Children Fantasy</td>\n",
       "    </tr>\n",
       "    <tr>\n",
       "      <th>2</th>\n",
       "      <td>3</td>\n",
       "      <td>Grumpier Old Men (1995)</td>\n",
       "      <td>Comedy|Romance</td>\n",
       "      <td>Comedy Romance</td>\n",
       "    </tr>\n",
       "    <tr>\n",
       "      <th>3</th>\n",
       "      <td>4</td>\n",
       "      <td>Waiting to Exhale (1995)</td>\n",
       "      <td>Comedy|Drama|Romance</td>\n",
       "      <td>Comedy Drama Romance</td>\n",
       "    </tr>\n",
       "    <tr>\n",
       "      <th>4</th>\n",
       "      <td>5</td>\n",
       "      <td>Father of the Bride Part II (1995)</td>\n",
       "      <td>Comedy</td>\n",
       "      <td>Comedy</td>\n",
       "    </tr>\n",
       "  </tbody>\n",
       "</table>\n",
       "</div>"
      ],
      "text/plain": [
       "   movieId                               title  \\\n",
       "0        1                    Toy Story (1995)   \n",
       "1        2                      Jumanji (1995)   \n",
       "2        3             Grumpier Old Men (1995)   \n",
       "3        4            Waiting to Exhale (1995)   \n",
       "4        5  Father of the Bride Part II (1995)   \n",
       "\n",
       "                                        genres  \\\n",
       "0  Adventure|Animation|Children|Comedy|Fantasy   \n",
       "1                   Adventure|Children|Fantasy   \n",
       "2                               Comedy|Romance   \n",
       "3                         Comedy|Drama|Romance   \n",
       "4                                       Comedy   \n",
       "\n",
       "                                         Split  \n",
       "0  Adventure Animation Children Comedy Fantasy  \n",
       "1                   Adventure Children Fantasy  \n",
       "2                               Comedy Romance  \n",
       "3                         Comedy Drama Romance  \n",
       "4                                       Comedy  "
      ]
     },
     "execution_count": 14,
     "metadata": {},
     "output_type": "execute_result"
    }
   ],
   "source": [
    "movies.head()"
   ]
  },
  {
   "cell_type": "markdown",
   "metadata": {},
   "source": [
    "TFIDF Vectorizer"
   ]
  },
  {
   "cell_type": "code",
   "execution_count": 15,
   "metadata": {
    "execution": {
     "iopub.execute_input": "2021-11-18T05:59:29.813714Z",
     "iopub.status.busy": "2021-11-18T05:59:29.813412Z",
     "iopub.status.idle": "2021-11-18T05:59:30.001393Z",
     "shell.execute_reply": "2021-11-18T05:59:30.000487Z",
     "shell.execute_reply.started": "2021-11-18T05:59:29.813673Z"
    }
   },
   "outputs": [],
   "source": [
    "#Extracting Stopword\n",
    "tfidf = TfidfVectorizer(stop_words='english')\n",
    "\n",
    "#Replace NaN for empty string\n",
    "movies['Split'] = movies['Split'].fillna('')\n",
    "\n",
    "#Applying TF-IDF Vectorizer\n",
    "tfidf_matrix = tfidf.fit_transform(movies['Split'])"
   ]
  },
  {
   "cell_type": "code",
   "execution_count": 16,
   "metadata": {
    "execution": {
     "iopub.execute_input": "2021-11-18T05:59:35.562503Z",
     "iopub.status.busy": "2021-11-18T05:59:35.562227Z"
    }
   },
   "outputs": [],
   "source": [
    "cosine_sim=linear_kernel(tfidf_matrix,tfidf_matrix)"
   ]
  },
  {
   "cell_type": "code",
   "execution_count": 17,
   "metadata": {
    "execution": {
     "iopub.execute_input": "2021-11-18T05:09:56.898650Z",
     "iopub.status.busy": "2021-11-18T05:09:56.897822Z",
     "iopub.status.idle": "2021-11-18T05:09:56.905600Z",
     "shell.execute_reply": "2021-11-18T05:09:56.904636Z",
     "shell.execute_reply.started": "2021-11-18T05:09:56.898593Z"
    }
   },
   "outputs": [
    {
     "name": "stdout",
     "output_type": "stream",
     "text": [
      "[[1.         0.81341975 0.15917743 ... 0.4191766  0.         0.        ]\n",
      " [0.81341975 1.         0.         ... 0.51532631 0.         0.        ]\n",
      " [0.15917743 0.         1.         ... 0.         0.         0.        ]\n",
      " ...\n",
      " [0.4191766  0.51532631 0.         ... 1.         0.         0.        ]\n",
      " [0.         0.         0.         ... 0.         1.         0.        ]\n",
      " [0.         0.         0.         ... 0.         0.         0.        ]]\n"
     ]
    }
   ],
   "source": [
    "print(cosine_sim)"
   ]
  },
  {
   "cell_type": "code",
   "execution_count": 18,
   "metadata": {
    "execution": {
     "iopub.execute_input": "2021-11-18T05:09:59.718685Z",
     "iopub.status.busy": "2021-11-18T05:09:59.718402Z",
     "iopub.status.idle": "2021-11-18T05:09:59.724789Z",
     "shell.execute_reply": "2021-11-18T05:09:59.724026Z",
     "shell.execute_reply.started": "2021-11-18T05:09:59.718651Z"
    }
   },
   "outputs": [],
   "source": [
    "def get_recommendations_based_on_genres(movie_title, cosine_sim_movies=cosine_sim):\n",
    "    # Get the index of the movie that matches the title\n",
    "    idx_movie = movies.loc[movies['title'].isin([movie_title])]\n",
    "    idx_movie = idx_movie.index\n",
    "    \n",
    "    # Get the pairwsie similarity scores of all movies with that movie\n",
    "    sim_scores_movies = list(enumerate(cosine_sim_movies[idx_movie][0]))\n",
    "    \n",
    "    # Sort the movies based on the similarity scores\n",
    "    sim_scores_movies = sorted(sim_scores_movies, key=lambda x: x[1], reverse=True)\n",
    "\n",
    "    # Get the scores of the 10 most similar movies\n",
    "    sim_scores_movies = sim_scores_movies[1:10]\n",
    "    \n",
    "    # Get the movie indices\n",
    "    movie_indices = [i[0] for i in sim_scores_movies]\n",
    "    \n",
    "    # Return the top most similar movies\n",
    "    return movies['title'].iloc[movie_indices]"
   ]
  },
  {
   "cell_type": "code",
   "execution_count": 19,
   "metadata": {
    "execution": {
     "iopub.execute_input": "2021-11-18T05:12:47.094142Z",
     "iopub.status.busy": "2021-11-18T05:12:47.093489Z",
     "iopub.status.idle": "2021-11-18T05:12:47.137391Z",
     "shell.execute_reply": "2021-11-18T05:12:47.136607Z",
     "shell.execute_reply.started": "2021-11-18T05:12:47.094100Z"
    }
   },
   "outputs": [
    {
     "data": {
      "text/plain": [
       "2209                                           Antz (1998)\n",
       "3027                                    Toy Story 2 (1999)\n",
       "3663        Adventures of Rocky and Bullwinkle, The (2000)\n",
       "3922                      Emperor's New Groove, The (2000)\n",
       "4790                                 Monsters, Inc. (2001)\n",
       "10114    DuckTales: The Movie - Treasure of the Lost La...\n",
       "10987                                     Wild, The (2006)\n",
       "11871                               Shrek the Third (2007)\n",
       "13337                       Tale of Despereaux, The (2008)\n",
       "Name: title, dtype: object"
      ]
     },
     "execution_count": 19,
     "metadata": {},
     "output_type": "execute_result"
    }
   ],
   "source": [
    "get_recommendations_based_on_genres(\"Toy Story (1995)\")"
   ]
  },
  {
   "cell_type": "code",
   "execution_count": 20,
   "metadata": {
    "execution": {
     "iopub.execute_input": "2021-11-18T05:12:51.768437Z",
     "iopub.status.busy": "2021-11-18T05:12:51.768149Z",
     "iopub.status.idle": "2021-11-18T05:12:51.774893Z",
     "shell.execute_reply": "2021-11-18T05:12:51.774173Z",
     "shell.execute_reply.started": "2021-11-18T05:12:51.768404Z"
    }
   },
   "outputs": [],
   "source": [
    "def get_recommendation_content_model(userId):\n",
    "    recommended_movie_list = []\n",
    "    movie_list = []\n",
    "    df_rating_filtered = rating[rating[\"userId\"]== userId]\n",
    "    for key, row in df_rating_filtered.iterrows():\n",
    "        movie_list.append((movies[\"title\"][row[\"movieId\"]==movies[\"movieId\"]]).values) \n",
    "    for index, movie in enumerate(movie_list):\n",
    "        for key, movie_recommended in get_recommendations_based_on_genres(movie[0]).iteritems():\n",
    "            recommended_movie_list.append(movie_recommended)\n",
    "\n",
    "    # removing already watched movie from recommended list    \n",
    "    for movie_title in recommended_movie_list:\n",
    "        if movie_title in movie_list:\n",
    "            recommended_movie_list.remove(movie_title)\n",
    "    \n",
    "    return set(recommended_movie_list)"
   ]
  },
  {
   "cell_type": "code",
   "execution_count": 21,
   "metadata": {
    "execution": {
     "iopub.execute_input": "2021-11-18T05:12:54.654603Z",
     "iopub.status.busy": "2021-11-18T05:12:54.654327Z",
     "iopub.status.idle": "2021-11-18T05:12:59.835223Z",
     "shell.execute_reply": "2021-11-18T05:12:59.834431Z",
     "shell.execute_reply.started": "2021-11-18T05:12:54.654571Z"
    }
   },
   "outputs": [
    {
     "data": {
      "text/plain": [
       "{'*batteries not included (1987)',\n",
       " '20,000 Leagues Under the Sea (1954)',\n",
       " '2046 (2004)',\n",
       " '20th Century Boys - Chapter 1: Beginning of the End (2008)',\n",
       " '28 Days Later (2002)',\n",
       " '39 Steps, The (1935)',\n",
       " '5,000 Fingers of Dr. T, The (1953)',\n",
       " 'A.I. Artificial Intelligence (2001)',\n",
       " 'AVP: Alien vs. Predator (2004)',\n",
       " 'Absolute Power (1997)',\n",
       " 'Ace Ventura: When Nature Calls (1995)',\n",
       " 'Adrenalin: Fear the Rush (1996)',\n",
       " 'Advantageous (2015)',\n",
       " \"Adventure of Sherlock Holmes' Smarter Brother, The (1975)\",\n",
       " 'Adventures in Babysitting (1987)',\n",
       " 'Adventures of Captain Marvel (1941)',\n",
       " 'Adventures of Rocky and Bullwinkle, The (2000)',\n",
       " 'Akira (1988)',\n",
       " 'Alice (1990)',\n",
       " \"Alice's Adventures in Wonderland (1972)\",\n",
       " 'Alien (1979)',\n",
       " 'Alien Contamination (1980)',\n",
       " 'Alien Escape (1995)',\n",
       " 'Alien Nation (1988)',\n",
       " 'Alien Raiders (2008)',\n",
       " 'Alien: Resurrection (1997)',\n",
       " 'Aliens in the Attic (2009)',\n",
       " 'Alien³ (a.k.a. Alien 3) (1992)',\n",
       " 'All Quiet on the Western Front (1930)',\n",
       " 'All-Star Superman (2011)',\n",
       " 'Allegro non troppo (1977)',\n",
       " 'Alligator (1980)',\n",
       " 'Alone in the Dark (2005)',\n",
       " 'Amandla! A Revolution in Four Part Harmony (2002)',\n",
       " 'Amateur (1994)',\n",
       " 'American Astronaut, The (2001)',\n",
       " 'American President, The (1995)',\n",
       " \"Amityville 1992: It's About Time (1992)\",\n",
       " 'Amityville 3-D (1983)',\n",
       " 'Anaconda (1997)',\n",
       " 'And You Thought Your Parents Were Weird (1991)',\n",
       " 'Angels and Insects (1995)',\n",
       " \"Antonia's Line (Antonia) (1995)\",\n",
       " 'Antz (1998)',\n",
       " 'Apple, The (1980)',\n",
       " 'Aragami (2003)',\n",
       " 'Aristocats, The (1970)',\n",
       " 'Arizona Dream (1993)',\n",
       " 'Armageddon (1998)',\n",
       " 'Around the World in 80 Days (1956)',\n",
       " 'Arrival, The (1996)',\n",
       " 'Assassination Bureau, The (1969)',\n",
       " \"Astronaut's Wife, The (1999)\",\n",
       " \"At the Earth's Core (1976)\",\n",
       " 'Atomic Twister (2002)',\n",
       " 'Attack of the Killer Tomatoes! (1978)',\n",
       " 'Attraction (2000)',\n",
       " 'Avalon (2001)',\n",
       " 'Avengers, The (1998)',\n",
       " 'Babes in Toyland (1961)',\n",
       " 'Baby... Secret of the Lost Legend (1985)',\n",
       " 'Babysitter, The (1995)',\n",
       " 'Bad Taste (1987)',\n",
       " 'Bambi (1942)',\n",
       " 'Bambi 2 (2006)',\n",
       " 'Barb Wire (1996)',\n",
       " 'Barbarella (1968)',\n",
       " 'Basic Instinct (1992)',\n",
       " 'Battle for the Planet of the Apes (1973)',\n",
       " 'Beautiful Girls (1996)',\n",
       " 'Bed of Roses (1996)',\n",
       " 'Beetlejuice (1988)',\n",
       " 'Before the Rain (Pred dozhdot) (1994)',\n",
       " 'Believers, The (1987)',\n",
       " 'Big Bully (1996)',\n",
       " 'Big Lebowski, The (1998)',\n",
       " 'Big Town, The (1987)',\n",
       " 'Bigfoot (2012)',\n",
       " 'Biggles (1986)',\n",
       " \"Bill & Ted's Bogus Journey (1991)\",\n",
       " \"Bill & Ted's Excellent Adventure (1989)\",\n",
       " 'Bio-Dome (1996)',\n",
       " 'Bionicle: The Legend Reborn (2009)',\n",
       " 'Black Moon Rising (1986)',\n",
       " 'Black Sheep (1996)',\n",
       " 'Blair Witch Project, The (1999)',\n",
       " 'Blink (1994)',\n",
       " 'Blob, The (1958)',\n",
       " 'Blood Simple (1984)',\n",
       " 'BloodRayne: The Third Reich (2011)',\n",
       " 'Blue in the Face (1995)',\n",
       " 'Blues Brothers 2000 (1998)',\n",
       " 'Body Parts (1991)',\n",
       " 'Body Snatcher, The (1945)',\n",
       " 'Body Snatchers (1993)',\n",
       " 'Bodyguard, The (1992)',\n",
       " 'Boomerang (1992)',\n",
       " 'Boot, Das (Boat, The) (1981)',\n",
       " 'Born in Flames (1983)',\n",
       " 'Brainstorm (1983)',\n",
       " 'Branded (2012)',\n",
       " 'Breakfast of Champions (1999)',\n",
       " 'Breaking In (1989)',\n",
       " \"Bride of Chucky (Child's Play 4) (1998)\",\n",
       " 'Bridge of Dragons (1999)',\n",
       " 'Bridges of Madison County, The (1995)',\n",
       " 'Broken Arrow (1996)',\n",
       " 'Brother from Another Planet, The (1984)',\n",
       " 'Bruce Almighty (2003)',\n",
       " 'Buena Vista Social Club (1999)',\n",
       " 'Bullet Ballet (1998)',\n",
       " 'CJ7 (Cheung Gong 7 hou) (2008)',\n",
       " 'Calle 54 (2000)',\n",
       " 'Candyman (1992)',\n",
       " 'Capricorn One (1978)',\n",
       " 'Capture of Bigfoot, The (1979)',\n",
       " 'Careful (1992)',\n",
       " 'Carpool (1996)',\n",
       " 'Carrington (1995)',\n",
       " 'Castle Freak (1995)',\n",
       " 'Cat from Outer Space, The (1978)',\n",
       " 'Cave, The (2005)',\n",
       " 'Cemetery Man (Dellamorte Dellamore) (1994)',\n",
       " 'Chain Reaction (1996)',\n",
       " \"Charlotte's Web (1973)\",\n",
       " \"Child's Play 3 (1991)\",\n",
       " 'Children of Dune (2003)',\n",
       " 'Children of the Corn IV: The Gathering (1996)',\n",
       " 'Children of the Damned (1963)',\n",
       " 'Chinese Ghost Story II, A (Sien nui yau wan II yan gaan do) (1990)',\n",
       " 'Chipmunk Adventure, The (1987)',\n",
       " 'Chitty Chitty Bang Bang (1968)',\n",
       " 'Chopping Mall (a.k.a. Killbots) (1986)',\n",
       " 'Cimarron (1931)',\n",
       " 'Cinderella (2015)',\n",
       " \"Cirque du Freak: The Vampire's Assistant (2009)\",\n",
       " 'City Hall (1996)',\n",
       " 'City in the Sea (1965)',\n",
       " 'City of Angels (1998)',\n",
       " 'City of Ember (2008)',\n",
       " 'Clash of the Titans (1981)',\n",
       " 'Cliffhanger (1993)',\n",
       " 'Close Encounters of the Third Kind (1977)',\n",
       " 'Cloverfield (2008)',\n",
       " 'Clueless (1995)',\n",
       " 'Cocoon: The Return (1988)',\n",
       " 'Coherence (2013)',\n",
       " 'Color of Night (1994)',\n",
       " 'Communion (1989)',\n",
       " 'Conceiving Ada (1997)',\n",
       " 'Coneheads (1993)',\n",
       " 'Control (2004)',\n",
       " 'Corridors of Time: The Visitors II, The (Couloirs du temps: Les visiteurs 2, Les) (1998)',\n",
       " 'Corrina, Corrina (1994)',\n",
       " \"Creature Wasn't Nice, The (a.k.a. Naked Space) (a.k.a. Spaceship) (1981)\",\n",
       " 'Creature from the Black Lagoon, The (1954)',\n",
       " 'Crimes of Passion (1984)',\n",
       " 'Crimson Pirate, The (1952)',\n",
       " 'Critters 2: The Main Course (1988)',\n",
       " 'Crocodile Dundee (1986)',\n",
       " 'Cry, the Beloved Country (1995)',\n",
       " 'Cuckoo, The (Kukushka) (2002)',\n",
       " 'Cure (1997)',\n",
       " 'D.A.R.Y.L. (1985)',\n",
       " 'Dabangg 2 (2012)',\n",
       " 'Dangerous Minds (1995)',\n",
       " \"Darby O'Gill and the Little People (1959)\",\n",
       " 'Darktown Strutters (Get Down and Boogie) (1975)',\n",
       " 'Day of the Doctor, The (2013)',\n",
       " 'Dead Leaves (2004)',\n",
       " 'Dead Man Walking (1995)',\n",
       " 'Dead or Alive: Final (2002)',\n",
       " 'Death Becomes Her (1992)',\n",
       " 'Death Rides a Horse (Da uomo a uomo) (1967)',\n",
       " 'Death and the Maiden (1994)',\n",
       " 'Decline of Western Civilization, The (1981)',\n",
       " 'Deep Impact (1998)',\n",
       " 'Defending Your Life (1991)',\n",
       " 'Demolition Man (1993)',\n",
       " 'Desert Winds (1995)',\n",
       " 'Devil and Max Devlin, The (1981)',\n",
       " \"Devil's Advocate, The (1997)\",\n",
       " 'Dial M for Murder (1954)',\n",
       " 'Diary of a Cannibal (2007)',\n",
       " 'Die Hard 2 (1990)',\n",
       " 'Dirty Dozen, The (1967)',\n",
       " 'Disclosure (1994)',\n",
       " 'District 13 (Banlieue 13) (2004)',\n",
       " 'District 9 (2009)',\n",
       " 'Dolores Claiborne (1995)',\n",
       " 'Don Juan DeMarco (1995)',\n",
       " 'Donnie Darko (2001)',\n",
       " 'Doomwatch (1972)',\n",
       " 'Double Indemnity (1944)',\n",
       " 'Double Life of Veronique, The (Double Vie de Véronique, La) (1991)',\n",
       " 'Double Life, A (1947)',\n",
       " \"Doug's 1st Movie (1999)\",\n",
       " 'Dr. Cyclops (1940)',\n",
       " \"Dr. Horrible's Sing-Along Blog (2008)\",\n",
       " 'Dr. Jekyll and Mr. Hyde (2008)',\n",
       " 'Dr. Mabuse: The Gambler (Dr. Mabuse, der Spieler) (1922)',\n",
       " 'Dr. Who and the Daleks (1965)',\n",
       " 'Dragon Ball Z the Movie: The Tree of Might (Doragon bôru Z 3: Chikyû marugoto chô kessen) (1990)',\n",
       " 'Dream Man (1995)',\n",
       " 'Dreamcatcher (2003)',\n",
       " 'Drop Dead Fred (1991)',\n",
       " 'DuckTales: The Movie - Treasure of the Lost Lamp (1990)',\n",
       " 'Dune (1984)',\n",
       " 'Dungeons & Dragons (2000)',\n",
       " 'Earth Girls Are Easy (1988)',\n",
       " 'Earth to Echo (2014)',\n",
       " 'Earth vs. the Flying Saucers (1956)',\n",
       " 'Eat Drink Man Woman (Yin shi nan nu) (1994)',\n",
       " 'Edge, The (1997)',\n",
       " 'Edward Scissorhands (1990)',\n",
       " \"Emperor's New Groove, The (2000)\",\n",
       " 'End of the World (1977)',\n",
       " 'Endangered Species (1982)',\n",
       " 'Enemy Mine (1985)',\n",
       " 'Enforcer, The (1951)',\n",
       " 'Escape from L.A. (1996)',\n",
       " 'Escape from New York (1981)',\n",
       " 'Escape from the Planet of the Apes (1971)',\n",
       " 'Escape to Witch Mountain (1975)',\n",
       " 'Etoiles: Dancers of the Paris Opera Ballet (Tout Près des étoiles) (2001)',\n",
       " 'Event Horizon (1997)',\n",
       " 'Ever Since the World Ended (2001)',\n",
       " 'Evil Dead, The (1981)',\n",
       " 'Ewok Adventure, The (a.k.a. Caravan of Courage: An Ewok Adventure) (1984)',\n",
       " 'Ewoks: The Battle for Endor (1985)',\n",
       " 'Executive Decision (1996)',\n",
       " 'Explorers (1985)',\n",
       " 'Eyes Wide Shut (1999)',\n",
       " 'Eyes Without a Face (Yeux sans visage, Les) (1959)',\n",
       " 'Fantastic Voyage (1966)',\n",
       " 'Fear, The (1995)',\n",
       " 'FearDotCom (a.k.a. Fear.com) (a.k.a. Fear Dot Com) (2002)',\n",
       " 'Final Analysis (1992)',\n",
       " 'Fisher King, The (1991)',\n",
       " 'Fistful of Dollars, A (Per un pugno di dollari) (1964)',\n",
       " 'Fled (1996)',\n",
       " 'Flying Saucer, The (1950)',\n",
       " 'Fog, The (1980)',\n",
       " 'Following (1998)',\n",
       " 'Forbidden Planet (1956)',\n",
       " 'Forbidden Zone (1980)',\n",
       " 'Forgotten, The (2004)',\n",
       " 'Four Rooms (1995)',\n",
       " 'Frankenstein Conquers the World (1965)',\n",
       " 'Frantic (1988)',\n",
       " 'Freaks (1932)',\n",
       " 'French Twist (Gazon maudit) (1995)',\n",
       " 'Fresh (1994)',\n",
       " 'Friday (1995)',\n",
       " 'Fright Night (1985)',\n",
       " 'Frighteners, The (1996)',\n",
       " 'From the Earth to the Moon (1958)',\n",
       " 'Frozen (2013)',\n",
       " 'Funny Face (1957)',\n",
       " 'Galaxy Quest (1999)',\n",
       " 'Galaxy of Terror (Quest) (1981)',\n",
       " 'Game, The (1997)',\n",
       " 'Gantz: Perfect Answer (2011)',\n",
       " 'Georgia (1995)',\n",
       " 'Ghost and Mrs. Muir, The (1947)',\n",
       " 'Ghost and the Darkness, The (1996)',\n",
       " 'Ghostbusters II (1989)',\n",
       " 'Glass Shield, The (1994)',\n",
       " 'Gnome-Mobile, The (1967)',\n",
       " 'Godzilla 1985: The Legend Is Reborn (Gojira) (Godzilla) (Return of Godzilla, The) (1984)',\n",
       " 'Godzilla vs. Mechagodzilla (Gojira tai Mekagojira) (1974)',\n",
       " 'Godzilla vs. Mechagodzilla II (Gojira VS Mekagojira) (1993)',\n",
       " 'Good Boy! (2003)',\n",
       " 'Good Morning, Vietnam (1987)',\n",
       " 'Goodbye, 20th Century (1998)',\n",
       " 'Grand Tour: Disaster in Time (Timescape) (1992)',\n",
       " 'Great Dictator, The (1940)',\n",
       " 'Great K & A Train Robbery, The (1926)',\n",
       " 'Gremlins (1984)',\n",
       " 'Gremlins 2: The New Batch (1990)',\n",
       " 'Groundstar Conspiracy, The (1972)',\n",
       " 'Guest from the Future (Gostya iz buduschego) (1985)',\n",
       " 'Guilty as Sin (1993)',\n",
       " 'Gumby: The Movie (1995)',\n",
       " 'Gunfighter, The (1950)',\n",
       " 'Halloween: The Curse of Michael Myers (Halloween 6: The Curse of Michael Myers) (1995)',\n",
       " 'Hands of Orlac, The (Orlacs Hände) (1924)',\n",
       " 'Happiness Is in the Field (Bonheur est dans le pré, Le) (1995)',\n",
       " 'Happy Gilmore (1996)',\n",
       " 'Harry Potter and the Chamber of Secrets (2002)',\n",
       " 'Harvey (1950)',\n",
       " 'Hatchet for the Honeymoon (Rosso segno della follia, Il) (1970)',\n",
       " 'Hate (Haine, La) (1995)',\n",
       " 'Heaven & Earth (1993)',\n",
       " 'Heavenly Creatures (1994)',\n",
       " 'Hellboy (2004)',\n",
       " 'Henry: Portrait of a Serial Killer (1986)',\n",
       " 'Henry: Portrait of a Serial Killer, Part 2 (1998)',\n",
       " \"Herod's Law (Ley de Herodes, La) (2000)\",\n",
       " 'Hidden, The (1987)',\n",
       " 'Hideaway (1995)',\n",
       " 'High Noon (1952)',\n",
       " 'Highway to Hell (1991)',\n",
       " 'Hip Hop Witch, Da (2000)',\n",
       " 'Home for the Holidays (1995)',\n",
       " 'Hoodlum (1997)',\n",
       " 'Hostel: Part II (2007)',\n",
       " 'Hound of the Baskervilles, The (1978)',\n",
       " 'House on Haunted Hill (1959)',\n",
       " 'How the Grinch Stole Christmas! (1966)',\n",
       " 'How to Make an American Quilt (1995)',\n",
       " 'Howard the Duck (1986)',\n",
       " 'Hud (1963)',\n",
       " 'Human Stain, The (2003)',\n",
       " 'I Am a Fugitive from a Chain Gang (1932)',\n",
       " 'Idle Hands (1999)',\n",
       " 'If Lucy Fell (1996)',\n",
       " 'Il Mare (Siworae) (2000)',\n",
       " 'Impulse (1984)',\n",
       " 'In Time (2011)',\n",
       " 'In the Bleak Midwinter (1995)',\n",
       " 'In the Mouth of Madness (1995)',\n",
       " 'Incredible Shrinking Man, The (1957)',\n",
       " 'Independence Day (a.k.a. ID4) (1996)',\n",
       " 'Indian in the Cupboard, The (1995)',\n",
       " 'Indiana Jones and the Last Crusade (1989)',\n",
       " 'Innocents, The (1961)',\n",
       " 'Insomnia (1997)',\n",
       " 'Insurgent (2015)',\n",
       " 'Into the Woods (2014)',\n",
       " 'Invasion of the Body Snatchers (1956)',\n",
       " 'Invitation to the Dance (1956)',\n",
       " 'Ishq (1997)',\n",
       " 'It Came from Beneath the Sea (1955)',\n",
       " 'It Came from Outer Space (1953)',\n",
       " 'It Conquered the World (1956)',\n",
       " 'Jack and the Cuckoo-Clock Heart (Jack et la mécanique du coeur) (2013)',\n",
       " 'Jacket, The (2005)',\n",
       " 'Jeffrey (1995)',\n",
       " \"Jessie James Meets Frankenstein's Daughter (1966)\",\n",
       " 'Jesus Christ Vampire Hunter (2001)',\n",
       " 'Johnny Mnemonic (1995)',\n",
       " 'Journey of August King, The (1995)',\n",
       " 'Journey to Saturn (Rejsen til Saturn) (2008)',\n",
       " 'Journey to the Center of the Earth (1959)',\n",
       " 'Juliet of the Spirits (Giulietta degli spiriti) (1965)',\n",
       " 'Jungle Book (1942)',\n",
       " 'Juror, The (1996)',\n",
       " 'Just Cause (1995)',\n",
       " 'Just Imagine (1930)',\n",
       " 'Kambakkht Ishq (Incredible Love) (2009)',\n",
       " 'Kentuckian, The (1955)',\n",
       " 'Kids of the Round Table (1995)',\n",
       " 'Killing Zoe (1994)',\n",
       " 'King Kong Lives (1986)',\n",
       " 'King Kong vs. Godzilla (Kingukongu tai Gojira) (1962)',\n",
       " 'King and I, The (1999)',\n",
       " 'King of Hearts (1966)',\n",
       " 'King of the Ants (2003)',\n",
       " 'Kiss of Death (1995)',\n",
       " 'Knowing (2009)',\n",
       " 'Kull the Conqueror (1997)',\n",
       " 'Lady Terminator (Pembalasan ratu pantai selatan) (1989)',\n",
       " 'Lady Vanishes, The (1938)',\n",
       " 'Land and Freedom (Tierra y libertad) (1995)',\n",
       " 'Last Action Hero (1993)',\n",
       " 'Last House on the Left, The (1972)',\n",
       " 'Last Mimzy, The (2007)',\n",
       " 'Last Night (1998)',\n",
       " 'Last Summer in the Hamptons (1995)',\n",
       " 'Lawnmower Man 2: Beyond Cyberspace (1996)',\n",
       " 'Leatherface: Texas Chainsaw Massacre III (1990)',\n",
       " 'Leaving Las Vegas (1995)',\n",
       " 'Librarian: Quest for the Spear, The (2004)',\n",
       " 'Little Odessa (1994)',\n",
       " 'Little Shop of Horrors, The (1960)',\n",
       " 'Lonely Are the Brave (1962)',\n",
       " 'Longest Day, The (1962)',\n",
       " 'Looker (1981)',\n",
       " 'Looper (2012)',\n",
       " 'Lord of the Rings: The Fellowship of the Ring, The (2001)',\n",
       " 'Lord of the Rings: The Two Towers, The (2002)',\n",
       " 'Lost Boys, The (1987)',\n",
       " 'Lost World, The (1925)',\n",
       " 'Lost in Austen (2008)',\n",
       " 'Love & Human Remains (1993)',\n",
       " \"Madonna's Pig (2011)\",\n",
       " 'Magadheera (2009)',\n",
       " 'Malice (1993)',\n",
       " 'Mallrats (1995)',\n",
       " 'Man Facing Southeast (Hombre mirando al sudeste) (1986)',\n",
       " 'Man Made Monster (1941)',\n",
       " 'Man Who Would Be King, The (1975)',\n",
       " 'Man from the Future, The (O Homem do Futuro) (2011)',\n",
       " 'Mask of Fu Manchu, The (1932)',\n",
       " 'Maximum Risk (1996)',\n",
       " 'Maze Runner, The (2014)',\n",
       " 'McCabe & Mrs. Miller (1971)',\n",
       " 'Me, Myself & Irene (2000)',\n",
       " 'Mega Piranha (2010)',\n",
       " 'Merlin (1998)',\n",
       " 'Meteor (1979)',\n",
       " 'Meteor (2009)',\n",
       " 'Metropolis (1927)',\n",
       " 'Mighty Aphrodite (1995)',\n",
       " 'Mighty Peking Man (a.k.a. Goliathon) (Xing xing wang) (1977)',\n",
       " 'Millennium (1989)',\n",
       " 'Minion, The (1998)',\n",
       " 'Minority Report (2002)',\n",
       " \"Mirror Crack'd, The (1980)\",\n",
       " 'Misery (1990)',\n",
       " 'Mission to Mars (2000)',\n",
       " 'Mister Roberts (1955)',\n",
       " 'Misérables, Les (1995)',\n",
       " 'Monsters, Inc. (2001)',\n",
       " 'Moon (2009)',\n",
       " 'Moon Child (2003)',\n",
       " 'More Wild Wild West (1980)',\n",
       " 'Mortal Thoughts (1991)',\n",
       " 'Mothra (Mosura) (1961)',\n",
       " \"Mr. Holland's Opus (1995)\",\n",
       " 'Mr. Nobody (2009)',\n",
       " 'Mr. Wrong (1996)',\n",
       " 'Mulholland Falls (1996)',\n",
       " 'Mummy, The (1999)',\n",
       " 'Murder in the First (1995)',\n",
       " 'Murder! (1930)',\n",
       " 'Mutiny on the Bounty (1935)',\n",
       " 'My Favorite Martian (1999)',\n",
       " 'Mystery Science Theater 3000: The Movie (1996)',\n",
       " 'Natural City (2003)',\n",
       " 'Navigator: A Mediaeval Odyssey, The (1988)',\n",
       " 'Nemesis 2: Nebula (1995)',\n",
       " 'NeverEnding Story II: The Next Chapter, The (1990)',\n",
       " 'NeverEnding Story III, The (1994)',\n",
       " 'NeverEnding Story, The (1984)',\n",
       " 'New Adventures of Pippi Longstocking, The (1988)',\n",
       " 'New Jersey Drive (1995)',\n",
       " 'Nine Months (1995)',\n",
       " 'Ninjas vs. Zombies (2008)',\n",
       " 'Nobody Loves Me (Keiner liebt mich) (1994)',\n",
       " \"Nobody's Fool (1994)\",\n",
       " 'Nothing But Trouble (1991)',\n",
       " 'Nothing Lasts Forever (1984) ',\n",
       " 'Nothing Personal (1995)',\n",
       " 'Nueba Yol (1995)',\n",
       " 'Nutcracker, The (1993)',\n",
       " 'Nutty Professor, The (1963)',\n",
       " 'Old Man and the Sea, The (1958)',\n",
       " 'Once Upon a Time... When We Were Colored (1995)',\n",
       " 'Once Were Warriors (1994)',\n",
       " 'One Point O (2004)',\n",
       " 'Original Sin (2001)',\n",
       " 'Orlando (1992)',\n",
       " 'Othello (1995)',\n",
       " 'Our Man Flint (1965)',\n",
       " 'Outbreak (1995)',\n",
       " 'P.U.N.K.S (1999)',\n",
       " 'Pacific Heights (1990)',\n",
       " 'Pan (1995)',\n",
       " 'Paperhouse (1988)',\n",
       " 'Parasite (1982)',\n",
       " 'Pardes (1997)',\n",
       " 'Passion in the Desert (1998)',\n",
       " \"Pee-wee's Big Adventure (1985)\",\n",
       " 'Peeping Tom (1960)',\n",
       " 'Perfect World, A (1993)',\n",
       " 'Persuasion (1995)',\n",
       " 'Pet Sematary II (1992)',\n",
       " 'Peter Pan (1960)',\n",
       " 'Phantom, The (1996)',\n",
       " 'Phantoms (1998)',\n",
       " 'Philadelphia Experiment, The (1984)',\n",
       " 'Pie in the Sky (1996)',\n",
       " 'Pinocchio (1976)',\n",
       " 'Pitch Black (2000)',\n",
       " 'Plan 9 from Outer Space (1959)',\n",
       " 'Platoon (1986)',\n",
       " 'Poison Ivy II (1996)',\n",
       " 'Postman, The (Postino, Il) (1994)',\n",
       " 'Prestige, The (2006)',\n",
       " 'Price of Milk, The (2000)',\n",
       " 'Privates on Parade (1982)',\n",
       " 'Professor Layton and the Eternal Diva (Eiga Reiton-kyôju to eien no utahime) (2009)',\n",
       " 'Psycho (1998)',\n",
       " 'Psycho Beach Party (2000)',\n",
       " 'Purple Ball, The (Lilovyy shar) (1987)',\n",
       " 'Purple Noon (Plein soleil) (1960)',\n",
       " 'Purple Rose of Cairo, The (1985)',\n",
       " 'Quatermass 2 (Enemy from Space) (1957)',\n",
       " 'Queen of Outer Space (1958)',\n",
       " 'Quest, The (1996)',\n",
       " 'Raiders of Atlantis, The (1983)',\n",
       " 'Ranma ½: Nihao My Concubine (Ranma ½: Kessen Tôgenkyô! Hanayome o torimodose!!) (1992)',\n",
       " 'Ratatouille (2007)',\n",
       " 'Re-Animator (1985)',\n",
       " 'Red Dragon (2002)',\n",
       " 'Red Rock West (1992)',\n",
       " 'Red: Werewolf Hunter (2010)',\n",
       " 'Relic, The (1997)',\n",
       " 'Repo Man (1984)',\n",
       " 'Resident Evil (2002)',\n",
       " 'Resident Evil: Apocalypse (2004)',\n",
       " 'Restoration (1995)',\n",
       " 'Retroactive (1997)',\n",
       " 'Return from Witch Mountain (1978)',\n",
       " 'Return of Swamp Thing, The (1989)',\n",
       " 'Return of the Killer Tomatoes! (1988)',\n",
       " 'Return of the King, The (1980)',\n",
       " 'Return of the Living Dead, The (1985)',\n",
       " 'Return of the Pink Panther, The (1975)',\n",
       " 'Revenge (1990)',\n",
       " 'Robin Hood: Prince of Thieves (1991)',\n",
       " 'RoboCop 2 (1990)',\n",
       " 'RoboCop 3 (1993)',\n",
       " 'Rock, The (1996)',\n",
       " 'Rocketeer, The (1991)',\n",
       " 'Rollerball (1975)',\n",
       " \"Rosemary's Baby (1968)\",\n",
       " 'Ruby Red (2013)',\n",
       " 'Runaway (1984)',\n",
       " 'S. Darko (S. Darko: A Donnie Darko Tale) (2009)',\n",
       " 'Saboteur (1942)',\n",
       " 'Sabretooth (2002)',\n",
       " 'Sabrina (1995)',\n",
       " 'Safe (1995)',\n",
       " 'Santa Claus Conquers the Martians (1964)',\n",
       " 'Santa Claus: The Movie (1985)',\n",
       " 'Saw III (2006)',\n",
       " \"Schindler's List (1993)\",\n",
       " 'Screamers (1995)',\n",
       " 'Searchers, The (1956)',\n",
       " 'Seconds (1966)',\n",
       " 'Severed Arm, The (1973)',\n",
       " 'Shadow of the Thin Man (1941)',\n",
       " 'Shaft, The (a.k.a. Down) (2001)',\n",
       " 'Shane (1953)',\n",
       " 'Shanghai Triad (Yao a yao yao dao waipo qiao) (1995)',\n",
       " 'She Creature (Mermaid Chronicles Part 1: She Creature) (2001)',\n",
       " 'Shock Treatment (1981)',\n",
       " 'Shot in the Dark, A (1964)',\n",
       " 'Shrek the Halls (2007)',\n",
       " 'Shrek the Musical (2013)',\n",
       " 'Shrek the Third (2007)',\n",
       " 'Silverado (1985)',\n",
       " 'Simone (S1m0ne) (2002)',\n",
       " 'Sinbad and the Eye of the Tiger (1977)',\n",
       " 'Slim Susie (Smala Sussie) (2003)',\n",
       " 'Sliver (1993)',\n",
       " 'Solar Crisis (1990)',\n",
       " 'Solarbabies (1986)',\n",
       " 'Solo (1996)',\n",
       " 'Solomon Kane (2009)',\n",
       " 'Some Like It Hot (1959)',\n",
       " 'Something to Talk About (1995)',\n",
       " 'Sometimes They Come Back (1991)',\n",
       " 'Source Code (2011)',\n",
       " 'Space Pirate Captain Harlock: Arcadia of My Youth (Waga seishun no Arcadia) (1982)',\n",
       " 'Space Raiders (1983)',\n",
       " 'SpaceCamp (1986)',\n",
       " 'Spaced Invaders (1990)',\n",
       " 'Spawn (1997)',\n",
       " 'Species II (1998)',\n",
       " 'Spoilers, The (1942)',\n",
       " 'Spy Kids: All the Time in the World in 4D (2011)',\n",
       " \"Squanto: A Warrior's Tale (1994)\",\n",
       " 'Stalingrad (1993)',\n",
       " 'Standing in the Shadows of Motown (2002)',\n",
       " 'Star Kid (1997)',\n",
       " 'Star Trek II: The Wrath of Khan (1982)',\n",
       " 'Star Trek III: The Search for Spock (1984)',\n",
       " 'Star Trek IV: The Voyage Home (1986)',\n",
       " 'Star Wars: Episode IV - A New Hope (1977)',\n",
       " 'Star Wars: Episode V - The Empire Strikes Back (1980)',\n",
       " 'Star Wars: Episode VI - Return of the Jedi (1983)',\n",
       " 'Star Wars: The Clone Wars (2008)',\n",
       " 'Stargate (1994)',\n",
       " 'Steal Big, Steal Little (1995)',\n",
       " 'Stendhal Syndrome, The (Sindrome di Stendhal, La) (1996)',\n",
       " 'Stepford Wives, The (1975)',\n",
       " 'Sticky Fingers of Time, The (1997)',\n",
       " 'Sting, The (1973)',\n",
       " 'Stop Making Sense (1984)',\n",
       " 'Storefront Hitchcock (1997)',\n",
       " 'Strange Case of Dr. Jekyll and Mr. Hyde, The (1968)',\n",
       " 'Strange Days (1995)',\n",
       " 'Striptease (1996)',\n",
       " 'Study in Terror, A (1965)',\n",
       " 'Suddenly (1954)',\n",
       " 'Sukiyaki Western Django (2008)',\n",
       " 'Super Mario Bros. (1993)',\n",
       " 'Super Troopers (2001)',\n",
       " 'Surviving the Game (1994)',\n",
       " 'Swan Princess, The (1994)',\n",
       " 'Swarm, The (1978)',\n",
       " 'Sweeney Todd: The Demon Barber of Fleet Street (1936)',\n",
       " 'Switchback (1997)',\n",
       " 'Sword of the Valiant (1984)',\n",
       " 'Tale of Despereaux, The (2008)',\n",
       " 'Tale of the Mummy (1998)',\n",
       " 'Talented Mr. Ripley, The (1999)',\n",
       " 'Tales from the Crypt Presents: Bordello of Blood (1996)',\n",
       " 'Tales from the Crypt Presents: Demon Knight (1995)',\n",
       " 'Tales from the Darkside: The Movie (1990)',\n",
       " 'Tamara (2005)',\n",
       " 'Tank Girl (1995)',\n",
       " 'Tarzan and the Lost City (1998)',\n",
       " \"Tarzan's Magic Fountain (1949)\",\n",
       " 'Tea with Mussolini (1999)',\n",
       " 'Tell-Tale (2009)',\n",
       " 'Territories (2010) ',\n",
       " 'Tetsuo II: Body Hammer (1992)',\n",
       " 'Tetsuo, the Ironman (Tetsuo) (1988)',\n",
       " 'The Amazing Screw-On Head (2006)',\n",
       " 'The Brides of Fu Manchu (1966)',\n",
       " 'The Butterfly Effect (2004)',\n",
       " 'The Clowns (1970)',\n",
       " 'The Humanoid (1979)',\n",
       " 'The Inhabited Island (2008)',\n",
       " 'The Invisible Boy (2014)',\n",
       " 'Them! (1954)',\n",
       " 'These Are the Damned (a.k.a. The Damned) (1963)',\n",
       " 'Thief and the Cobbler, The (a.k.a. Arabian Knight) (1995)',\n",
       " 'Thief of Bagdad, The (1940)',\n",
       " 'Thin Man Goes Home, The (1945)',\n",
       " 'Thin Man, The (1934)',\n",
       " 'Thin Red Line, The (1998)',\n",
       " 'Thing with Two Heads, The (1972)',\n",
       " 'Thinner (1996)',\n",
       " 'Thirteenth Floor, The (1999)',\n",
       " 'This World, Then the Fireworks (1997)',\n",
       " 'Thunderpants (2002)',\n",
       " 'Ticking Clock (2011)',\n",
       " 'Tie That Binds, The (1995)',\n",
       " 'Time After Time (1979)',\n",
       " 'Time Lapse (2014)',\n",
       " 'Time Tracers (1995)',\n",
       " 'Timecop (1994)',\n",
       " 'Timerider: The Adventure of Lyle Swann (1982)',\n",
       " 'Tin Drum, The (Blechtrommel, Die) (1979)',\n",
       " 'Tin Man (2007)',\n",
       " 'To Be or Not to Be (1942)',\n",
       " 'Tobor the Great (1954)',\n",
       " 'Tom Thumb (1958)',\n",
       " 'Toomorrow (1970)',\n",
       " 'Tora! Tora! Tora! (1970)',\n",
       " 'Touch (1997)',\n",
       " 'Toy Story 2 (1999)',\n",
       " 'Toys (1992)',\n",
       " 'Travelling Salesman (2012)',\n",
       " 'Tremors (1990)',\n",
       " 'Trial by Jury (1994)',\n",
       " 'Trial of Billy Jack, The (1974)',\n",
       " 'Trial of the Incredible Hulk, The (1989)',\n",
       " 'Trixie (2000)',\n",
       " 'True Crime (1996)',\n",
       " 'Twin Town (1997)',\n",
       " 'Two Bits (1995)',\n",
       " 'Two if by Sea (1996)',\n",
       " 'Underdog (2007)',\n",
       " 'Underneath (1995)',\n",
       " 'Underworld (2003)',\n",
       " 'Underworld: Evolution (2006)',\n",
       " 'Unforgettable (1996)',\n",
       " \"Unidentified Flying Oddball (a.k.a. Spaceman and King Arthur, The) (a.k.a. Spaceman in King Arthur's Court, A) (1979)\",\n",
       " 'Until the End of the World (Bis ans Ende der Welt) (1991)',\n",
       " 'Vampire Effect (The Twins Effect) (Chin gei bin) (2003)',\n",
       " 'Vampyros Lesbos (Vampiras, Las) (1971)',\n",
       " 'Van Helsing (2004)',\n",
       " 'Versus (2000)',\n",
       " 'Village of the Damned (1960)',\n",
       " 'Village of the Damned (1995)',\n",
       " 'Virtuosity (1995)',\n",
       " 'Voyage to the Bottom of the Sea (1961)',\n",
       " 'Walkabout (1971)',\n",
       " 'Walking Dead, The (1995)',\n",
       " 'War Wagon, The (1967)',\n",
       " 'War of the Worlds, The (1953)',\n",
       " 'WarGames (1983)',\n",
       " 'Web of Death, The (1976)',\n",
       " 'Wedlock (1991)',\n",
       " 'Weird Science (1985)',\n",
       " 'When Night Is Falling (1995)',\n",
       " 'White Heat (1949)',\n",
       " 'Whom the Gods Wish to Destroy (Nibelungen, Teil 1: Siegfried, Die) (1966)',\n",
       " 'Wild Wild West (1999)',\n",
       " 'Wild Wild West Revisited, The (1979)',\n",
       " 'Wild, The (2006)',\n",
       " \"William Shakespeare's A Midsummer Night's Dream (1999)\",\n",
       " 'Window to Paris (Okno v Parizh) (1994)',\n",
       " 'Wings of Desire (Himmel über Berlin, Der) (1987)',\n",
       " 'Wiz, The (1978)',\n",
       " 'Wolf Creek (2005)',\n",
       " 'X-Files: I Want to Believe, The (2008)',\n",
       " 'X: The Man with the X-Ray Eyes (1963)',\n",
       " 'Young Guns II (1990)',\n",
       " 'Young Ones (2014)',\n",
       " \"Young Poisoner's Handbook, The (1995)\",\n",
       " 'Zardoz (1974)',\n",
       " 'Zone 39 (1997)',\n",
       " 'Zu: Warriors from the Magic Mountain (Xin shu shan jian ke) (1983)'}"
      ]
     },
     "execution_count": 21,
     "metadata": {},
     "output_type": "execute_result"
    }
   ],
   "source": [
    "get_recommendation_content_model(3)"
   ]
  },
  {
   "cell_type": "code",
   "execution_count": 22,
   "metadata": {
    "execution": {
     "iopub.execute_input": "2021-11-18T05:13:01.238570Z",
     "iopub.status.busy": "2021-11-18T05:13:01.237786Z",
     "iopub.status.idle": "2021-11-18T05:13:01.258236Z",
     "shell.execute_reply": "2021-11-18T05:13:01.257416Z",
     "shell.execute_reply.started": "2021-11-18T05:13:01.238530Z"
    }
   },
   "outputs": [
    {
     "name": "stdout",
     "output_type": "stream",
     "text": [
      "(27278, 22)\n"
     ]
    }
   ],
   "source": [
    "tfidf_df = pd.DataFrame(tfidf_matrix.toarray(), index=movies.index.tolist())\n",
    "print(tfidf_df.shape)"
   ]
  },
  {
   "cell_type": "code",
   "execution_count": 23,
   "metadata": {
    "execution": {
     "iopub.execute_input": "2021-11-18T05:13:05.123747Z",
     "iopub.status.busy": "2021-11-18T05:13:05.123400Z",
     "iopub.status.idle": "2021-11-18T05:13:05.640275Z",
     "shell.execute_reply": "2021-11-18T05:13:05.639572Z",
     "shell.execute_reply.started": "2021-11-18T05:13:05.123693Z"
    }
   },
   "outputs": [
    {
     "data": {
      "image/png": "[encoded data removed]",
      "text/plain": [
       "<Figure size 432x288 with 1 Axes>"
      ]
     },
     "metadata": {
      "needs_background": "light"
     },
     "output_type": "display_data"
    }
   ],
   "source": [
    "from sklearn.decomposition import TruncatedSVD\n",
    "svd = TruncatedSVD(n_components=19)\n",
    "latent_matrix = svd.fit_transform(tfidf_df)\n",
    "# plot var expalined to see what latent dimensions to use\n",
    "explained = svd.explained_variance_ratio_.cumsum()\n",
    "plt.plot(explained, '.-', ms = 16, color='red')\n",
    "plt.xlabel('Singular value components', fontsize= 12)\n",
    "plt.ylabel('Cumulative percent of variance', fontsize=12)        \n",
    "plt.show()"
   ]
  },
  {
   "cell_type": "code",
   "execution_count": 24,
   "metadata": {
    "execution": {
     "iopub.execute_input": "2021-11-18T05:13:12.899528Z",
     "iopub.status.busy": "2021-11-18T05:13:12.898634Z",
     "iopub.status.idle": "2021-11-18T05:13:12.910599Z",
     "shell.execute_reply": "2021-11-18T05:13:12.909616Z",
     "shell.execute_reply.started": "2021-11-18T05:13:12.899487Z"
    }
   },
   "outputs": [
    {
     "data": {
      "text/plain": [
       "(27278, 19)"
      ]
     },
     "execution_count": 24,
     "metadata": {},
     "output_type": "execute_result"
    }
   ],
   "source": [
    "n = 20\n",
    "latent_matrix_1_df_original = pd.DataFrame(latent_matrix[:,0:n], index=movies.title.tolist())\n",
    "latent_matrix_1_df_original.shape"
   ]
  },
  {
   "cell_type": "markdown",
   "metadata": {},
   "source": [
    "**2. Collaborative Filtering**"
   ]
  },
  {
   "cell_type": "markdown",
   "metadata": {},
   "source": [
    "**Create a User-Item Matrix**"
   ]
  },
  {
   "cell_type": "code",
   "execution_count": 17,
   "metadata": {
    "execution": {
     "iopub.execute_input": "2021-11-18T05:26:14.941229Z",
     "iopub.status.busy": "2021-11-18T05:26:14.940525Z",
     "iopub.status.idle": "2021-11-18T05:26:18.415046Z",
     "shell.execute_reply": "2021-11-18T05:26:18.414346Z",
     "shell.execute_reply.started": "2021-11-18T05:26:14.941186Z"
    }
   },
   "outputs": [
    {
     "data": {
      "text/html": [
       "<div>\n",
       "<style scoped>\n",
       "    .dataframe tbody tr th:only-of-type {\n",
       "        vertical-align: middle;\n",
       "    }\n",
       "\n",
       "    .dataframe tbody tr th {\n",
       "        vertical-align: top;\n",
       "    }\n",
       "\n",
       "    .dataframe thead th {\n",
       "        text-align: right;\n",
       "    }\n",
       "</style>\n",
       "<table border=\"1\" class=\"dataframe\">\n",
       "  <thead>\n",
       "    <tr style=\"text-align: right;\">\n",
       "      <th></th>\n",
       "      <th>userId</th>\n",
       "      <th>movieId</th>\n",
       "      <th>rating</th>\n",
       "      <th>timestamp</th>\n",
       "    </tr>\n",
       "  </thead>\n",
       "  <tbody>\n",
       "    <tr>\n",
       "      <th>0</th>\n",
       "      <td>1</td>\n",
       "      <td>2</td>\n",
       "      <td>3.5</td>\n",
       "      <td>1112486027</td>\n",
       "    </tr>\n",
       "    <tr>\n",
       "      <th>1</th>\n",
       "      <td>1</td>\n",
       "      <td>29</td>\n",
       "      <td>3.5</td>\n",
       "      <td>1112484676</td>\n",
       "    </tr>\n",
       "    <tr>\n",
       "      <th>2</th>\n",
       "      <td>1</td>\n",
       "      <td>32</td>\n",
       "      <td>3.5</td>\n",
       "      <td>1112484819</td>\n",
       "    </tr>\n",
       "    <tr>\n",
       "      <th>3</th>\n",
       "      <td>1</td>\n",
       "      <td>47</td>\n",
       "      <td>3.5</td>\n",
       "      <td>1112484727</td>\n",
       "    </tr>\n",
       "    <tr>\n",
       "      <th>4</th>\n",
       "      <td>1</td>\n",
       "      <td>50</td>\n",
       "      <td>3.5</td>\n",
       "      <td>1112484580</td>\n",
       "    </tr>\n",
       "  </tbody>\n",
       "</table>\n",
       "</div>"
      ],
      "text/plain": [
       "   userId  movieId  rating   timestamp\n",
       "0       1        2     3.5  1112486027\n",
       "1       1       29     3.5  1112484676\n",
       "2       1       32     3.5  1112484819\n",
       "3       1       47     3.5  1112484727\n",
       "4       1       50     3.5  1112484580"
      ]
     },
     "execution_count": 17,
     "metadata": {},
     "output_type": "execute_result"
    }
   ],
   "source": [
    "ratings=pd.read_csv('ml-20m/ratings.csv',nrows=10000000)\n",
    "ratings.head()"
   ]
  },
  {
   "cell_type": "code",
   "execution_count": 26,
   "metadata": {
    "execution": {
     "iopub.execute_input": "2021-11-18T05:26:22.198307Z",
     "iopub.status.busy": "2021-11-18T05:26:22.197477Z"
    }
   },
   "outputs": [
    {
     "data": {
      "text/html": [
       "<div>\n",
       "<style scoped>\n",
       "    .dataframe tbody tr th:only-of-type {\n",
       "        vertical-align: middle;\n",
       "    }\n",
       "\n",
       "    .dataframe tbody tr th {\n",
       "        vertical-align: top;\n",
       "    }\n",
       "\n",
       "    .dataframe thead th {\n",
       "        text-align: right;\n",
       "    }\n",
       "</style>\n",
       "<table border=\"1\" class=\"dataframe\">\n",
       "  <thead>\n",
       "    <tr style=\"text-align: right;\">\n",
       "      <th>userId</th>\n",
       "      <th>1</th>\n",
       "      <th>2</th>\n",
       "      <th>3</th>\n",
       "      <th>4</th>\n",
       "      <th>5</th>\n",
       "      <th>6</th>\n",
       "      <th>7</th>\n",
       "      <th>8</th>\n",
       "      <th>9</th>\n",
       "      <th>10</th>\n",
       "      <th>...</th>\n",
       "      <th>69130</th>\n",
       "      <th>69131</th>\n",
       "      <th>69132</th>\n",
       "      <th>69133</th>\n",
       "      <th>69134</th>\n",
       "      <th>69135</th>\n",
       "      <th>69136</th>\n",
       "      <th>69137</th>\n",
       "      <th>69138</th>\n",
       "      <th>69139</th>\n",
       "    </tr>\n",
       "    <tr>\n",
       "      <th>movieId</th>\n",
       "      <th></th>\n",
       "      <th></th>\n",
       "      <th></th>\n",
       "      <th></th>\n",
       "      <th></th>\n",
       "      <th></th>\n",
       "      <th></th>\n",
       "      <th></th>\n",
       "      <th></th>\n",
       "      <th></th>\n",
       "      <th></th>\n",
       "      <th></th>\n",
       "      <th></th>\n",
       "      <th></th>\n",
       "      <th></th>\n",
       "      <th></th>\n",
       "      <th></th>\n",
       "      <th></th>\n",
       "      <th></th>\n",
       "      <th></th>\n",
       "      <th></th>\n",
       "    </tr>\n",
       "  </thead>\n",
       "  <tbody>\n",
       "    <tr>\n",
       "      <th>1</th>\n",
       "      <td>0.0</td>\n",
       "      <td>0.0</td>\n",
       "      <td>4.0</td>\n",
       "      <td>0.0</td>\n",
       "      <td>0.0</td>\n",
       "      <td>5.0</td>\n",
       "      <td>0.0</td>\n",
       "      <td>4.0</td>\n",
       "      <td>0.0</td>\n",
       "      <td>4.0</td>\n",
       "      <td>...</td>\n",
       "      <td>0.0</td>\n",
       "      <td>4.0</td>\n",
       "      <td>0.0</td>\n",
       "      <td>0.0</td>\n",
       "      <td>0.0</td>\n",
       "      <td>4.0</td>\n",
       "      <td>0.0</td>\n",
       "      <td>0.0</td>\n",
       "      <td>0.0</td>\n",
       "      <td>3.0</td>\n",
       "    </tr>\n",
       "    <tr>\n",
       "      <th>2</th>\n",
       "      <td>3.5</td>\n",
       "      <td>0.0</td>\n",
       "      <td>0.0</td>\n",
       "      <td>0.0</td>\n",
       "      <td>3.0</td>\n",
       "      <td>0.0</td>\n",
       "      <td>0.0</td>\n",
       "      <td>0.0</td>\n",
       "      <td>0.0</td>\n",
       "      <td>0.0</td>\n",
       "      <td>...</td>\n",
       "      <td>0.0</td>\n",
       "      <td>0.0</td>\n",
       "      <td>0.0</td>\n",
       "      <td>0.0</td>\n",
       "      <td>0.0</td>\n",
       "      <td>0.0</td>\n",
       "      <td>0.0</td>\n",
       "      <td>0.0</td>\n",
       "      <td>0.0</td>\n",
       "      <td>0.0</td>\n",
       "    </tr>\n",
       "    <tr>\n",
       "      <th>3</th>\n",
       "      <td>0.0</td>\n",
       "      <td>4.0</td>\n",
       "      <td>0.0</td>\n",
       "      <td>0.0</td>\n",
       "      <td>0.0</td>\n",
       "      <td>3.0</td>\n",
       "      <td>3.0</td>\n",
       "      <td>5.0</td>\n",
       "      <td>0.0</td>\n",
       "      <td>0.0</td>\n",
       "      <td>...</td>\n",
       "      <td>0.0</td>\n",
       "      <td>3.0</td>\n",
       "      <td>0.0</td>\n",
       "      <td>0.0</td>\n",
       "      <td>0.0</td>\n",
       "      <td>0.0</td>\n",
       "      <td>0.0</td>\n",
       "      <td>0.0</td>\n",
       "      <td>0.0</td>\n",
       "      <td>0.0</td>\n",
       "    </tr>\n",
       "    <tr>\n",
       "      <th>4</th>\n",
       "      <td>0.0</td>\n",
       "      <td>0.0</td>\n",
       "      <td>0.0</td>\n",
       "      <td>0.0</td>\n",
       "      <td>0.0</td>\n",
       "      <td>0.0</td>\n",
       "      <td>0.0</td>\n",
       "      <td>0.0</td>\n",
       "      <td>0.0</td>\n",
       "      <td>0.0</td>\n",
       "      <td>...</td>\n",
       "      <td>0.0</td>\n",
       "      <td>0.0</td>\n",
       "      <td>0.0</td>\n",
       "      <td>0.0</td>\n",
       "      <td>0.0</td>\n",
       "      <td>0.0</td>\n",
       "      <td>0.0</td>\n",
       "      <td>0.0</td>\n",
       "      <td>0.0</td>\n",
       "      <td>0.0</td>\n",
       "    </tr>\n",
       "    <tr>\n",
       "      <th>5</th>\n",
       "      <td>0.0</td>\n",
       "      <td>0.0</td>\n",
       "      <td>0.0</td>\n",
       "      <td>0.0</td>\n",
       "      <td>0.0</td>\n",
       "      <td>0.0</td>\n",
       "      <td>0.0</td>\n",
       "      <td>0.0</td>\n",
       "      <td>0.0</td>\n",
       "      <td>0.0</td>\n",
       "      <td>...</td>\n",
       "      <td>0.0</td>\n",
       "      <td>0.0</td>\n",
       "      <td>0.0</td>\n",
       "      <td>0.0</td>\n",
       "      <td>0.0</td>\n",
       "      <td>3.0</td>\n",
       "      <td>0.0</td>\n",
       "      <td>0.0</td>\n",
       "      <td>0.0</td>\n",
       "      <td>0.0</td>\n",
       "    </tr>\n",
       "    <tr>\n",
       "      <th>...</th>\n",
       "      <td>...</td>\n",
       "      <td>...</td>\n",
       "      <td>...</td>\n",
       "      <td>...</td>\n",
       "      <td>...</td>\n",
       "      <td>...</td>\n",
       "      <td>...</td>\n",
       "      <td>...</td>\n",
       "      <td>...</td>\n",
       "      <td>...</td>\n",
       "      <td>...</td>\n",
       "      <td>...</td>\n",
       "      <td>...</td>\n",
       "      <td>...</td>\n",
       "      <td>...</td>\n",
       "      <td>...</td>\n",
       "      <td>...</td>\n",
       "      <td>...</td>\n",
       "      <td>...</td>\n",
       "      <td>...</td>\n",
       "      <td>...</td>\n",
       "    </tr>\n",
       "    <tr>\n",
       "      <th>131166</th>\n",
       "      <td>0.0</td>\n",
       "      <td>0.0</td>\n",
       "      <td>0.0</td>\n",
       "      <td>0.0</td>\n",
       "      <td>0.0</td>\n",
       "      <td>0.0</td>\n",
       "      <td>0.0</td>\n",
       "      <td>0.0</td>\n",
       "      <td>0.0</td>\n",
       "      <td>0.0</td>\n",
       "      <td>...</td>\n",
       "      <td>0.0</td>\n",
       "      <td>0.0</td>\n",
       "      <td>0.0</td>\n",
       "      <td>0.0</td>\n",
       "      <td>0.0</td>\n",
       "      <td>0.0</td>\n",
       "      <td>0.0</td>\n",
       "      <td>0.0</td>\n",
       "      <td>0.0</td>\n",
       "      <td>0.0</td>\n",
       "    </tr>\n",
       "    <tr>\n",
       "      <th>131168</th>\n",
       "      <td>0.0</td>\n",
       "      <td>0.0</td>\n",
       "      <td>0.0</td>\n",
       "      <td>0.0</td>\n",
       "      <td>0.0</td>\n",
       "      <td>0.0</td>\n",
       "      <td>0.0</td>\n",
       "      <td>0.0</td>\n",
       "      <td>0.0</td>\n",
       "      <td>0.0</td>\n",
       "      <td>...</td>\n",
       "      <td>0.0</td>\n",
       "      <td>0.0</td>\n",
       "      <td>0.0</td>\n",
       "      <td>0.0</td>\n",
       "      <td>0.0</td>\n",
       "      <td>0.0</td>\n",
       "      <td>0.0</td>\n",
       "      <td>0.0</td>\n",
       "      <td>0.0</td>\n",
       "      <td>0.0</td>\n",
       "    </tr>\n",
       "    <tr>\n",
       "      <th>131231</th>\n",
       "      <td>0.0</td>\n",
       "      <td>0.0</td>\n",
       "      <td>0.0</td>\n",
       "      <td>0.0</td>\n",
       "      <td>0.0</td>\n",
       "      <td>0.0</td>\n",
       "      <td>0.0</td>\n",
       "      <td>0.0</td>\n",
       "      <td>0.0</td>\n",
       "      <td>0.0</td>\n",
       "      <td>...</td>\n",
       "      <td>0.0</td>\n",
       "      <td>0.0</td>\n",
       "      <td>0.0</td>\n",
       "      <td>0.0</td>\n",
       "      <td>0.0</td>\n",
       "      <td>0.0</td>\n",
       "      <td>0.0</td>\n",
       "      <td>0.0</td>\n",
       "      <td>0.0</td>\n",
       "      <td>0.0</td>\n",
       "    </tr>\n",
       "    <tr>\n",
       "      <th>131258</th>\n",
       "      <td>0.0</td>\n",
       "      <td>0.0</td>\n",
       "      <td>0.0</td>\n",
       "      <td>0.0</td>\n",
       "      <td>0.0</td>\n",
       "      <td>0.0</td>\n",
       "      <td>0.0</td>\n",
       "      <td>0.0</td>\n",
       "      <td>0.0</td>\n",
       "      <td>0.0</td>\n",
       "      <td>...</td>\n",
       "      <td>0.0</td>\n",
       "      <td>0.0</td>\n",
       "      <td>0.0</td>\n",
       "      <td>0.0</td>\n",
       "      <td>0.0</td>\n",
       "      <td>0.0</td>\n",
       "      <td>0.0</td>\n",
       "      <td>0.0</td>\n",
       "      <td>0.0</td>\n",
       "      <td>0.0</td>\n",
       "    </tr>\n",
       "    <tr>\n",
       "      <th>131260</th>\n",
       "      <td>0.0</td>\n",
       "      <td>0.0</td>\n",
       "      <td>0.0</td>\n",
       "      <td>0.0</td>\n",
       "      <td>0.0</td>\n",
       "      <td>0.0</td>\n",
       "      <td>0.0</td>\n",
       "      <td>0.0</td>\n",
       "      <td>0.0</td>\n",
       "      <td>0.0</td>\n",
       "      <td>...</td>\n",
       "      <td>0.0</td>\n",
       "      <td>0.0</td>\n",
       "      <td>0.0</td>\n",
       "      <td>0.0</td>\n",
       "      <td>0.0</td>\n",
       "      <td>0.0</td>\n",
       "      <td>0.0</td>\n",
       "      <td>0.0</td>\n",
       "      <td>0.0</td>\n",
       "      <td>0.0</td>\n",
       "    </tr>\n",
       "  </tbody>\n",
       "</table>\n",
       "<p>23304 rows × 69139 columns</p>\n",
       "</div>"
      ],
      "text/plain": [
       "userId   1      2      3      4      5      6      7      8      9      10     \\\n",
       "movieId                                                                         \n",
       "1          0.0    0.0    4.0    0.0    0.0    5.0    0.0    4.0    0.0    4.0   \n",
       "2          3.5    0.0    0.0    0.0    3.0    0.0    0.0    0.0    0.0    0.0   \n",
       "3          0.0    4.0    0.0    0.0    0.0    3.0    3.0    5.0    0.0    0.0   \n",
       "4          0.0    0.0    0.0    0.0    0.0    0.0    0.0    0.0    0.0    0.0   \n",
       "5          0.0    0.0    0.0    0.0    0.0    0.0    0.0    0.0    0.0    0.0   \n",
       "...        ...    ...    ...    ...    ...    ...    ...    ...    ...    ...   \n",
       "131166     0.0    0.0    0.0    0.0    0.0    0.0    0.0    0.0    0.0    0.0   \n",
       "131168     0.0    0.0    0.0    0.0    0.0    0.0    0.0    0.0    0.0    0.0   \n",
       "131231     0.0    0.0    0.0    0.0    0.0    0.0    0.0    0.0    0.0    0.0   \n",
       "131258     0.0    0.0    0.0    0.0    0.0    0.0    0.0    0.0    0.0    0.0   \n",
       "131260     0.0    0.0    0.0    0.0    0.0    0.0    0.0    0.0    0.0    0.0   \n",
       "\n",
       "userId   ...  69130  69131  69132  69133  69134  69135  69136  69137  69138  \\\n",
       "movieId  ...                                                                  \n",
       "1        ...    0.0    4.0    0.0    0.0    0.0    4.0    0.0    0.0    0.0   \n",
       "2        ...    0.0    0.0    0.0    0.0    0.0    0.0    0.0    0.0    0.0   \n",
       "3        ...    0.0    3.0    0.0    0.0    0.0    0.0    0.0    0.0    0.0   \n",
       "4        ...    0.0    0.0    0.0    0.0    0.0    0.0    0.0    0.0    0.0   \n",
       "5        ...    0.0    0.0    0.0    0.0    0.0    3.0    0.0    0.0    0.0   \n",
       "...      ...    ...    ...    ...    ...    ...    ...    ...    ...    ...   \n",
       "131166   ...    0.0    0.0    0.0    0.0    0.0    0.0    0.0    0.0    0.0   \n",
       "131168   ...    0.0    0.0    0.0    0.0    0.0    0.0    0.0    0.0    0.0   \n",
       "131231   ...    0.0    0.0    0.0    0.0    0.0    0.0    0.0    0.0    0.0   \n",
       "131258   ...    0.0    0.0    0.0    0.0    0.0    0.0    0.0    0.0    0.0   \n",
       "131260   ...    0.0    0.0    0.0    0.0    0.0    0.0    0.0    0.0    0.0   \n",
       "\n",
       "userId   69139  \n",
       "movieId         \n",
       "1          3.0  \n",
       "2          0.0  \n",
       "3          0.0  \n",
       "4          0.0  \n",
       "5          0.0  \n",
       "...        ...  \n",
       "131166     0.0  \n",
       "131168     0.0  \n",
       "131231     0.0  \n",
       "131258     0.0  \n",
       "131260     0.0  \n",
       "\n",
       "[23304 rows x 69139 columns]"
      ]
     },
     "execution_count": 26,
     "metadata": {},
     "output_type": "execute_result"
    }
   ],
   "source": [
    "user_movies_data = ratings.pivot(index = 'movieId', columns = 'userId', values = 'rating').fillna(0)\n",
    "user_movies_data"
   ]
  },
  {
   "cell_type": "code",
   "execution_count": 27,
   "metadata": {},
   "outputs": [
    {
     "data": {
      "text/html": [
       "<div>\n",
       "<style scoped>\n",
       "    .dataframe tbody tr th:only-of-type {\n",
       "        vertical-align: middle;\n",
       "    }\n",
       "\n",
       "    .dataframe tbody tr th {\n",
       "        vertical-align: top;\n",
       "    }\n",
       "\n",
       "    .dataframe thead th {\n",
       "        text-align: right;\n",
       "    }\n",
       "</style>\n",
       "<table border=\"1\" class=\"dataframe\">\n",
       "  <thead>\n",
       "    <tr style=\"text-align: right;\">\n",
       "      <th></th>\n",
       "      <th>movieId</th>\n",
       "      <th>title</th>\n",
       "      <th>genres</th>\n",
       "      <th>Split</th>\n",
       "    </tr>\n",
       "  </thead>\n",
       "  <tbody>\n",
       "    <tr>\n",
       "      <th>0</th>\n",
       "      <td>1</td>\n",
       "      <td>Toy Story (1995)</td>\n",
       "      <td>Adventure|Animation|Children|Comedy|Fantasy</td>\n",
       "      <td>Adventure Animation Children Comedy Fantasy</td>\n",
       "    </tr>\n",
       "    <tr>\n",
       "      <th>1</th>\n",
       "      <td>2</td>\n",
       "      <td>Jumanji (1995)</td>\n",
       "      <td>Adventure|Children|Fantasy</td>\n",
       "      <td>Adventure Children Fantasy</td>\n",
       "    </tr>\n",
       "    <tr>\n",
       "      <th>2</th>\n",
       "      <td>3</td>\n",
       "      <td>Grumpier Old Men (1995)</td>\n",
       "      <td>Comedy|Romance</td>\n",
       "      <td>Comedy Romance</td>\n",
       "    </tr>\n",
       "    <tr>\n",
       "      <th>3</th>\n",
       "      <td>4</td>\n",
       "      <td>Waiting to Exhale (1995)</td>\n",
       "      <td>Comedy|Drama|Romance</td>\n",
       "      <td>Comedy Drama Romance</td>\n",
       "    </tr>\n",
       "    <tr>\n",
       "      <th>4</th>\n",
       "      <td>5</td>\n",
       "      <td>Father of the Bride Part II (1995)</td>\n",
       "      <td>Comedy</td>\n",
       "      <td>Comedy</td>\n",
       "    </tr>\n",
       "  </tbody>\n",
       "</table>\n",
       "</div>"
      ],
      "text/plain": [
       "   movieId                               title  \\\n",
       "0        1                    Toy Story (1995)   \n",
       "1        2                      Jumanji (1995)   \n",
       "2        3             Grumpier Old Men (1995)   \n",
       "3        4            Waiting to Exhale (1995)   \n",
       "4        5  Father of the Bride Part II (1995)   \n",
       "\n",
       "                                        genres  \\\n",
       "0  Adventure|Animation|Children|Comedy|Fantasy   \n",
       "1                   Adventure|Children|Fantasy   \n",
       "2                               Comedy|Romance   \n",
       "3                         Comedy|Drama|Romance   \n",
       "4                                       Comedy   \n",
       "\n",
       "                                         Split  \n",
       "0  Adventure Animation Children Comedy Fantasy  \n",
       "1                   Adventure Children Fantasy  \n",
       "2                               Comedy Romance  \n",
       "3                         Comedy Drama Romance  \n",
       "4                                       Comedy  "
      ]
     },
     "execution_count": 27,
     "metadata": {},
     "output_type": "execute_result"
    }
   ],
   "source": [
    "mov=movies.iloc[:23304,:]\n",
    "mov.head()"
   ]
  },
  {
   "cell_type": "code",
   "execution_count": 28,
   "metadata": {
    "execution": {
     "iopub.execute_input": "2021-11-17T08:15:54.736759Z",
     "iopub.status.busy": "2021-11-17T08:15:54.736469Z",
     "iopub.status.idle": "2021-11-17T08:15:56.686546Z",
     "shell.execute_reply": "2021-11-17T08:15:56.685586Z",
     "shell.execute_reply.started": "2021-11-17T08:15:54.73673Z"
    }
   },
   "outputs": [],
   "source": [
    "from sklearn.decomposition import TruncatedSVD\n",
    "svd = TruncatedSVD(n_components=200)\n",
    "latent_matrix_2 = svd.fit_transform(user_movies_data)\n",
    "latent_matrix_2_df = pd.DataFrame(\n",
    "                             latent_matrix_2, index=mov.title.tolist())"
   ]
  },
  {
   "cell_type": "code",
   "execution_count": 29,
   "metadata": {
    "execution": {
     "iopub.execute_input": "2021-11-17T08:16:10.81572Z",
     "iopub.status.busy": "2021-11-17T08:16:10.815248Z",
     "iopub.status.idle": "2021-11-17T08:16:10.852855Z",
     "shell.execute_reply": "2021-11-17T08:16:10.851908Z",
     "shell.execute_reply.started": "2021-11-17T08:16:10.815687Z"
    }
   },
   "outputs": [
    {
     "data": {
      "text/html": [
       "<div>\n",
       "<style scoped>\n",
       "    .dataframe tbody tr th:only-of-type {\n",
       "        vertical-align: middle;\n",
       "    }\n",
       "\n",
       "    .dataframe tbody tr th {\n",
       "        vertical-align: top;\n",
       "    }\n",
       "\n",
       "    .dataframe thead th {\n",
       "        text-align: right;\n",
       "    }\n",
       "</style>\n",
       "<table border=\"1\" class=\"dataframe\">\n",
       "  <thead>\n",
       "    <tr style=\"text-align: right;\">\n",
       "      <th></th>\n",
       "      <th>0</th>\n",
       "      <th>1</th>\n",
       "      <th>2</th>\n",
       "      <th>3</th>\n",
       "      <th>4</th>\n",
       "      <th>5</th>\n",
       "      <th>6</th>\n",
       "      <th>7</th>\n",
       "      <th>8</th>\n",
       "      <th>9</th>\n",
       "      <th>...</th>\n",
       "      <th>190</th>\n",
       "      <th>191</th>\n",
       "      <th>192</th>\n",
       "      <th>193</th>\n",
       "      <th>194</th>\n",
       "      <th>195</th>\n",
       "      <th>196</th>\n",
       "      <th>197</th>\n",
       "      <th>198</th>\n",
       "      <th>199</th>\n",
       "    </tr>\n",
       "  </thead>\n",
       "  <tbody>\n",
       "    <tr>\n",
       "      <th>Toy Story (1995)</th>\n",
       "      <td>416.395263</td>\n",
       "      <td>75.286890</td>\n",
       "      <td>81.487646</td>\n",
       "      <td>26.431586</td>\n",
       "      <td>56.567960</td>\n",
       "      <td>119.999109</td>\n",
       "      <td>-47.613051</td>\n",
       "      <td>43.383956</td>\n",
       "      <td>148.211623</td>\n",
       "      <td>-14.270614</td>\n",
       "      <td>...</td>\n",
       "      <td>5.082204</td>\n",
       "      <td>-4.833206</td>\n",
       "      <td>-6.133632</td>\n",
       "      <td>0.794569</td>\n",
       "      <td>5.097216</td>\n",
       "      <td>4.802747</td>\n",
       "      <td>9.539876</td>\n",
       "      <td>7.031618</td>\n",
       "      <td>-5.376466</td>\n",
       "      <td>-4.267491</td>\n",
       "    </tr>\n",
       "    <tr>\n",
       "      <th>Jumanji (1995)</th>\n",
       "      <td>182.832370</td>\n",
       "      <td>65.793601</td>\n",
       "      <td>86.661998</td>\n",
       "      <td>-54.538054</td>\n",
       "      <td>-16.243922</td>\n",
       "      <td>10.172731</td>\n",
       "      <td>-43.969942</td>\n",
       "      <td>36.799028</td>\n",
       "      <td>1.794019</td>\n",
       "      <td>-7.872350</td>\n",
       "      <td>...</td>\n",
       "      <td>-10.132895</td>\n",
       "      <td>-7.263948</td>\n",
       "      <td>22.827761</td>\n",
       "      <td>-5.256698</td>\n",
       "      <td>20.139174</td>\n",
       "      <td>9.847554</td>\n",
       "      <td>-1.216484</td>\n",
       "      <td>-12.126668</td>\n",
       "      <td>-22.269399</td>\n",
       "      <td>4.639994</td>\n",
       "    </tr>\n",
       "    <tr>\n",
       "      <th>Grumpier Old Men (1995)</th>\n",
       "      <td>78.774242</td>\n",
       "      <td>56.631658</td>\n",
       "      <td>14.579564</td>\n",
       "      <td>-44.873168</td>\n",
       "      <td>-10.176988</td>\n",
       "      <td>3.010760</td>\n",
       "      <td>0.672716</td>\n",
       "      <td>-10.260273</td>\n",
       "      <td>90.670127</td>\n",
       "      <td>-20.912552</td>\n",
       "      <td>...</td>\n",
       "      <td>9.142477</td>\n",
       "      <td>-2.206125</td>\n",
       "      <td>0.710906</td>\n",
       "      <td>-5.397046</td>\n",
       "      <td>-4.367094</td>\n",
       "      <td>7.817490</td>\n",
       "      <td>4.096046</td>\n",
       "      <td>2.258982</td>\n",
       "      <td>4.325187</td>\n",
       "      <td>-4.247037</td>\n",
       "    </tr>\n",
       "    <tr>\n",
       "      <th>Waiting to Exhale (1995)</th>\n",
       "      <td>18.323947</td>\n",
       "      <td>23.520520</td>\n",
       "      <td>0.056676</td>\n",
       "      <td>-8.926860</td>\n",
       "      <td>-15.237588</td>\n",
       "      <td>2.750825</td>\n",
       "      <td>0.706203</td>\n",
       "      <td>1.692111</td>\n",
       "      <td>11.471888</td>\n",
       "      <td>1.645578</td>\n",
       "      <td>...</td>\n",
       "      <td>-3.985046</td>\n",
       "      <td>-0.072939</td>\n",
       "      <td>3.537995</td>\n",
       "      <td>-1.576021</td>\n",
       "      <td>-0.538743</td>\n",
       "      <td>-0.077273</td>\n",
       "      <td>1.924045</td>\n",
       "      <td>-0.724318</td>\n",
       "      <td>-0.227166</td>\n",
       "      <td>0.803888</td>\n",
       "    </tr>\n",
       "    <tr>\n",
       "      <th>Father of the Bride Part II (1995)</th>\n",
       "      <td>67.912926</td>\n",
       "      <td>57.375026</td>\n",
       "      <td>22.865847</td>\n",
       "      <td>-42.325063</td>\n",
       "      <td>-21.739419</td>\n",
       "      <td>14.703543</td>\n",
       "      <td>-4.370850</td>\n",
       "      <td>-3.653159</td>\n",
       "      <td>81.806672</td>\n",
       "      <td>-20.705299</td>\n",
       "      <td>...</td>\n",
       "      <td>2.558462</td>\n",
       "      <td>-2.073836</td>\n",
       "      <td>3.190374</td>\n",
       "      <td>-2.864153</td>\n",
       "      <td>-3.984592</td>\n",
       "      <td>-2.484880</td>\n",
       "      <td>1.688259</td>\n",
       "      <td>5.079726</td>\n",
       "      <td>1.473637</td>\n",
       "      <td>-1.749718</td>\n",
       "    </tr>\n",
       "    <tr>\n",
       "      <th>...</th>\n",
       "      <td>...</td>\n",
       "      <td>...</td>\n",
       "      <td>...</td>\n",
       "      <td>...</td>\n",
       "      <td>...</td>\n",
       "      <td>...</td>\n",
       "      <td>...</td>\n",
       "      <td>...</td>\n",
       "      <td>...</td>\n",
       "      <td>...</td>\n",
       "      <td>...</td>\n",
       "      <td>...</td>\n",
       "      <td>...</td>\n",
       "      <td>...</td>\n",
       "      <td>...</td>\n",
       "      <td>...</td>\n",
       "      <td>...</td>\n",
       "      <td>...</td>\n",
       "      <td>...</td>\n",
       "      <td>...</td>\n",
       "      <td>...</td>\n",
       "    </tr>\n",
       "    <tr>\n",
       "      <th>Centenarian Who Climbed Out the Window and Vanished, The (Hundraåringen som klev ut genom fönstret och försvann) (2013)</th>\n",
       "      <td>0.044174</td>\n",
       "      <td>-0.007852</td>\n",
       "      <td>0.001918</td>\n",
       "      <td>-0.042594</td>\n",
       "      <td>0.005805</td>\n",
       "      <td>0.001747</td>\n",
       "      <td>-0.090748</td>\n",
       "      <td>-0.074701</td>\n",
       "      <td>-0.022590</td>\n",
       "      <td>0.002998</td>\n",
       "      <td>...</td>\n",
       "      <td>0.013561</td>\n",
       "      <td>-0.026199</td>\n",
       "      <td>0.021403</td>\n",
       "      <td>-0.009966</td>\n",
       "      <td>0.035077</td>\n",
       "      <td>0.034517</td>\n",
       "      <td>-0.047971</td>\n",
       "      <td>-0.025165</td>\n",
       "      <td>0.016266</td>\n",
       "      <td>-0.027455</td>\n",
       "    </tr>\n",
       "    <tr>\n",
       "      <th>New Orleans Uncensored (1955)</th>\n",
       "      <td>0.067465</td>\n",
       "      <td>-0.036881</td>\n",
       "      <td>-0.014438</td>\n",
       "      <td>-0.049578</td>\n",
       "      <td>-0.098487</td>\n",
       "      <td>-0.033061</td>\n",
       "      <td>0.012454</td>\n",
       "      <td>-0.068304</td>\n",
       "      <td>0.025780</td>\n",
       "      <td>0.029926</td>\n",
       "      <td>...</td>\n",
       "      <td>0.014156</td>\n",
       "      <td>0.025707</td>\n",
       "      <td>0.045734</td>\n",
       "      <td>0.013843</td>\n",
       "      <td>-0.004349</td>\n",
       "      <td>0.004111</td>\n",
       "      <td>0.010944</td>\n",
       "      <td>0.023649</td>\n",
       "      <td>-0.004410</td>\n",
       "      <td>0.044154</td>\n",
       "    </tr>\n",
       "    <tr>\n",
       "      <th>Locke (2013)</th>\n",
       "      <td>0.034186</td>\n",
       "      <td>-0.021628</td>\n",
       "      <td>-0.029447</td>\n",
       "      <td>-0.049538</td>\n",
       "      <td>-0.077912</td>\n",
       "      <td>0.048073</td>\n",
       "      <td>-0.056242</td>\n",
       "      <td>0.010177</td>\n",
       "      <td>0.013448</td>\n",
       "      <td>0.044222</td>\n",
       "      <td>...</td>\n",
       "      <td>-0.017616</td>\n",
       "      <td>-0.023358</td>\n",
       "      <td>-0.063156</td>\n",
       "      <td>0.017470</td>\n",
       "      <td>0.020443</td>\n",
       "      <td>-0.039637</td>\n",
       "      <td>0.012180</td>\n",
       "      <td>-0.075718</td>\n",
       "      <td>-0.045636</td>\n",
       "      <td>-0.053060</td>\n",
       "    </tr>\n",
       "    <tr>\n",
       "      <th>Shinobi No Mono 4: Siege (1964)</th>\n",
       "      <td>0.030344</td>\n",
       "      <td>-0.037384</td>\n",
       "      <td>0.027822</td>\n",
       "      <td>-0.011665</td>\n",
       "      <td>-0.019065</td>\n",
       "      <td>-0.046111</td>\n",
       "      <td>-0.015919</td>\n",
       "      <td>-0.009403</td>\n",
       "      <td>0.021488</td>\n",
       "      <td>0.037695</td>\n",
       "      <td>...</td>\n",
       "      <td>-0.016208</td>\n",
       "      <td>0.006284</td>\n",
       "      <td>-0.003869</td>\n",
       "      <td>0.006418</td>\n",
       "      <td>0.026270</td>\n",
       "      <td>-0.013683</td>\n",
       "      <td>0.005353</td>\n",
       "      <td>-0.006636</td>\n",
       "      <td>-0.014380</td>\n",
       "      <td>-0.016296</td>\n",
       "    </tr>\n",
       "    <tr>\n",
       "      <th>Point Men, The (2001)</th>\n",
       "      <td>0.034024</td>\n",
       "      <td>-0.046370</td>\n",
       "      <td>0.026865</td>\n",
       "      <td>0.012337</td>\n",
       "      <td>-0.025108</td>\n",
       "      <td>-0.043560</td>\n",
       "      <td>-0.027895</td>\n",
       "      <td>0.009266</td>\n",
       "      <td>0.017171</td>\n",
       "      <td>0.019128</td>\n",
       "      <td>...</td>\n",
       "      <td>-0.012575</td>\n",
       "      <td>-0.026155</td>\n",
       "      <td>-0.027456</td>\n",
       "      <td>0.002119</td>\n",
       "      <td>-0.001554</td>\n",
       "      <td>-0.003249</td>\n",
       "      <td>0.004115</td>\n",
       "      <td>-0.006632</td>\n",
       "      <td>0.014624</td>\n",
       "      <td>0.017629</td>\n",
       "    </tr>\n",
       "  </tbody>\n",
       "</table>\n",
       "<p>23304 rows × 200 columns</p>\n",
       "</div>"
      ],
      "text/plain": [
       "                                                           0          1    \\\n",
       "Toy Story (1995)                                    416.395263  75.286890   \n",
       "Jumanji (1995)                                      182.832370  65.793601   \n",
       "Grumpier Old Men (1995)                              78.774242  56.631658   \n",
       "Waiting to Exhale (1995)                             18.323947  23.520520   \n",
       "Father of the Bride Part II (1995)                   67.912926  57.375026   \n",
       "...                                                        ...        ...   \n",
       "Centenarian Who Climbed Out the Window and Vani...    0.044174  -0.007852   \n",
       "New Orleans Uncensored (1955)                         0.067465  -0.036881   \n",
       "Locke (2013)                                          0.034186  -0.021628   \n",
       "Shinobi No Mono 4: Siege (1964)                       0.030344  -0.037384   \n",
       "Point Men, The (2001)                                 0.034024  -0.046370   \n",
       "\n",
       "                                                          2          3    \\\n",
       "Toy Story (1995)                                    81.487646  26.431586   \n",
       "Jumanji (1995)                                      86.661998 -54.538054   \n",
       "Grumpier Old Men (1995)                             14.579564 -44.873168   \n",
       "Waiting to Exhale (1995)                             0.056676  -8.926860   \n",
       "Father of the Bride Part II (1995)                  22.865847 -42.325063   \n",
       "...                                                       ...        ...   \n",
       "Centenarian Who Climbed Out the Window and Vani...   0.001918  -0.042594   \n",
       "New Orleans Uncensored (1955)                       -0.014438  -0.049578   \n",
       "Locke (2013)                                        -0.029447  -0.049538   \n",
       "Shinobi No Mono 4: Siege (1964)                      0.027822  -0.011665   \n",
       "Point Men, The (2001)                                0.026865   0.012337   \n",
       "\n",
       "                                                          4           5    \\\n",
       "Toy Story (1995)                                    56.567960  119.999109   \n",
       "Jumanji (1995)                                     -16.243922   10.172731   \n",
       "Grumpier Old Men (1995)                            -10.176988    3.010760   \n",
       "Waiting to Exhale (1995)                           -15.237588    2.750825   \n",
       "Father of the Bride Part II (1995)                 -21.739419   14.703543   \n",
       "...                                                       ...         ...   \n",
       "Centenarian Who Climbed Out the Window and Vani...   0.005805    0.001747   \n",
       "New Orleans Uncensored (1955)                       -0.098487   -0.033061   \n",
       "Locke (2013)                                        -0.077912    0.048073   \n",
       "Shinobi No Mono 4: Siege (1964)                     -0.019065   -0.046111   \n",
       "Point Men, The (2001)                               -0.025108   -0.043560   \n",
       "\n",
       "                                                          6          7    \\\n",
       "Toy Story (1995)                                   -47.613051  43.383956   \n",
       "Jumanji (1995)                                     -43.969942  36.799028   \n",
       "Grumpier Old Men (1995)                              0.672716 -10.260273   \n",
       "Waiting to Exhale (1995)                             0.706203   1.692111   \n",
       "Father of the Bride Part II (1995)                  -4.370850  -3.653159   \n",
       "...                                                       ...        ...   \n",
       "Centenarian Who Climbed Out the Window and Vani...  -0.090748  -0.074701   \n",
       "New Orleans Uncensored (1955)                        0.012454  -0.068304   \n",
       "Locke (2013)                                        -0.056242   0.010177   \n",
       "Shinobi No Mono 4: Siege (1964)                     -0.015919  -0.009403   \n",
       "Point Men, The (2001)                               -0.027895   0.009266   \n",
       "\n",
       "                                                           8          9    \\\n",
       "Toy Story (1995)                                    148.211623 -14.270614   \n",
       "Jumanji (1995)                                        1.794019  -7.872350   \n",
       "Grumpier Old Men (1995)                              90.670127 -20.912552   \n",
       "Waiting to Exhale (1995)                             11.471888   1.645578   \n",
       "Father of the Bride Part II (1995)                   81.806672 -20.705299   \n",
       "...                                                        ...        ...   \n",
       "Centenarian Who Climbed Out the Window and Vani...   -0.022590   0.002998   \n",
       "New Orleans Uncensored (1955)                         0.025780   0.029926   \n",
       "Locke (2013)                                          0.013448   0.044222   \n",
       "Shinobi No Mono 4: Siege (1964)                       0.021488   0.037695   \n",
       "Point Men, The (2001)                                 0.017171   0.019128   \n",
       "\n",
       "                                                    ...        190       191  \\\n",
       "Toy Story (1995)                                    ...   5.082204 -4.833206   \n",
       "Jumanji (1995)                                      ... -10.132895 -7.263948   \n",
       "Grumpier Old Men (1995)                             ...   9.142477 -2.206125   \n",
       "Waiting to Exhale (1995)                            ...  -3.985046 -0.072939   \n",
       "Father of the Bride Part II (1995)                  ...   2.558462 -2.073836   \n",
       "...                                                 ...        ...       ...   \n",
       "Centenarian Who Climbed Out the Window and Vani...  ...   0.013561 -0.026199   \n",
       "New Orleans Uncensored (1955)                       ...   0.014156  0.025707   \n",
       "Locke (2013)                                        ...  -0.017616 -0.023358   \n",
       "Shinobi No Mono 4: Siege (1964)                     ...  -0.016208  0.006284   \n",
       "Point Men, The (2001)                               ...  -0.012575 -0.026155   \n",
       "\n",
       "                                                          192       193  \\\n",
       "Toy Story (1995)                                    -6.133632  0.794569   \n",
       "Jumanji (1995)                                      22.827761 -5.256698   \n",
       "Grumpier Old Men (1995)                              0.710906 -5.397046   \n",
       "Waiting to Exhale (1995)                             3.537995 -1.576021   \n",
       "Father of the Bride Part II (1995)                   3.190374 -2.864153   \n",
       "...                                                       ...       ...   \n",
       "Centenarian Who Climbed Out the Window and Vani...   0.021403 -0.009966   \n",
       "New Orleans Uncensored (1955)                        0.045734  0.013843   \n",
       "Locke (2013)                                        -0.063156  0.017470   \n",
       "Shinobi No Mono 4: Siege (1964)                     -0.003869  0.006418   \n",
       "Point Men, The (2001)                               -0.027456  0.002119   \n",
       "\n",
       "                                                          194       195  \\\n",
       "Toy Story (1995)                                     5.097216  4.802747   \n",
       "Jumanji (1995)                                      20.139174  9.847554   \n",
       "Grumpier Old Men (1995)                             -4.367094  7.817490   \n",
       "Waiting to Exhale (1995)                            -0.538743 -0.077273   \n",
       "Father of the Bride Part II (1995)                  -3.984592 -2.484880   \n",
       "...                                                       ...       ...   \n",
       "Centenarian Who Climbed Out the Window and Vani...   0.035077  0.034517   \n",
       "New Orleans Uncensored (1955)                       -0.004349  0.004111   \n",
       "Locke (2013)                                         0.020443 -0.039637   \n",
       "Shinobi No Mono 4: Siege (1964)                      0.026270 -0.013683   \n",
       "Point Men, The (2001)                               -0.001554 -0.003249   \n",
       "\n",
       "                                                         196        197  \\\n",
       "Toy Story (1995)                                    9.539876   7.031618   \n",
       "Jumanji (1995)                                     -1.216484 -12.126668   \n",
       "Grumpier Old Men (1995)                             4.096046   2.258982   \n",
       "Waiting to Exhale (1995)                            1.924045  -0.724318   \n",
       "Father of the Bride Part II (1995)                  1.688259   5.079726   \n",
       "...                                                      ...        ...   \n",
       "Centenarian Who Climbed Out the Window and Vani... -0.047971  -0.025165   \n",
       "New Orleans Uncensored (1955)                       0.010944   0.023649   \n",
       "Locke (2013)                                        0.012180  -0.075718   \n",
       "Shinobi No Mono 4: Siege (1964)                     0.005353  -0.006636   \n",
       "Point Men, The (2001)                               0.004115  -0.006632   \n",
       "\n",
       "                                                          198       199  \n",
       "Toy Story (1995)                                    -5.376466 -4.267491  \n",
       "Jumanji (1995)                                     -22.269399  4.639994  \n",
       "Grumpier Old Men (1995)                              4.325187 -4.247037  \n",
       "Waiting to Exhale (1995)                            -0.227166  0.803888  \n",
       "Father of the Bride Part II (1995)                   1.473637 -1.749718  \n",
       "...                                                       ...       ...  \n",
       "Centenarian Who Climbed Out the Window and Vani...   0.016266 -0.027455  \n",
       "New Orleans Uncensored (1955)                       -0.004410  0.044154  \n",
       "Locke (2013)                                        -0.045636 -0.053060  \n",
       "Shinobi No Mono 4: Siege (1964)                     -0.014380 -0.016296  \n",
       "Point Men, The (2001)                                0.014624  0.017629  \n",
       "\n",
       "[23304 rows x 200 columns]"
      ]
     },
     "execution_count": 29,
     "metadata": {},
     "output_type": "execute_result"
    }
   ],
   "source": [
    "latent_matrix_2_df"
   ]
  },
  {
   "cell_type": "code",
   "execution_count": 30,
   "metadata": {
    "execution": {
     "iopub.execute_input": "2021-11-17T08:17:12.886249Z",
     "iopub.status.busy": "2021-11-17T08:17:12.885924Z",
     "iopub.status.idle": "2021-11-17T08:17:13.101246Z",
     "shell.execute_reply": "2021-11-17T08:17:13.100304Z",
     "shell.execute_reply.started": "2021-11-17T08:17:12.886215Z"
    }
   },
   "outputs": [
    {
     "data": {
      "image/png": "[encoded data removed]",
      "text/plain": [
       "<Figure size 432x288 with 1 Axes>"
      ]
     },
     "metadata": {
      "needs_background": "light"
     },
     "output_type": "display_data"
    }
   ],
   "source": [
    "# plot variance expalined to see what latent dimensions to use\n",
    "explained = svd.explained_variance_ratio_.cumsum()\n",
    "plt.plot(explained, '.-', ms = 16, color='red')\n",
    "plt.xlabel('Singular value components', fontsize= 12)\n",
    "plt.ylabel('Cumulative percent of variance', fontsize=12)        \n",
    "plt.show()"
   ]
  },
  {
   "cell_type": "code",
   "execution_count": 31,
   "metadata": {
    "execution": {
     "iopub.execute_input": "2021-11-17T08:22:40.010956Z",
     "iopub.status.busy": "2021-11-17T08:22:40.01065Z",
     "iopub.status.idle": "2021-11-17T08:22:41.823942Z",
     "shell.execute_reply": "2021-11-17T08:22:41.822801Z",
     "shell.execute_reply.started": "2021-11-17T08:22:40.010924Z"
    }
   },
   "outputs": [
    {
     "name": "stderr",
     "output_type": "stream",
     "text": [
      "<ipython-input-31-a13763f101d6>:5: SettingWithCopyWarning: \n",
      "A value is trying to be set on a copy of a slice from a DataFrame.\n",
      "Try using .loc[row_indexer,col_indexer] = value instead\n",
      "\n",
      "See the caveats in the documentation: https://pandas.pydata.org/pandas-docs/stable/user_guide/indexing.html#returning-a-view-versus-a-copy\n",
      "  mov['Split'] = mov['Split'].fillna('')\n"
     ]
    },
    {
     "name": "stdout",
     "output_type": "stream",
     "text": [
      "(23304, 22)\n"
     ]
    }
   ],
   "source": [
    "#Extracting Stopword\n",
    "tfidf = TfidfVectorizer(stop_words='english')\n",
    "\n",
    "#Replace NaN for empty string\n",
    "mov['Split'] = mov['Split'].fillna('')\n",
    "\n",
    "#Applying TF-IDF Vectorizer\n",
    "tfidf_matrix = tfidf.fit_transform(mov['Split'])\n",
    "cosine_sim=linear_kernel(tfidf_matrix,tfidf_matrix)\n",
    "tfidf_df = pd.DataFrame(tfidf_matrix.toarray(), index=mov.index.tolist())\n",
    "print(tfidf_df.shape)\n"
   ]
  },
  {
   "cell_type": "code",
   "execution_count": 32,
   "metadata": {
    "execution": {
     "iopub.execute_input": "2021-11-17T08:23:33.377456Z",
     "iopub.status.busy": "2021-11-17T08:23:33.377157Z",
     "iopub.status.idle": "2021-11-17T08:23:33.625026Z",
     "shell.execute_reply": "2021-11-17T08:23:33.62408Z",
     "shell.execute_reply.started": "2021-11-17T08:23:33.377426Z"
    }
   },
   "outputs": [
    {
     "data": {
      "image/png": "[encoded data removed]",
      "text/plain": [
       "<Figure size 432x288 with 1 Axes>"
      ]
     },
     "metadata": {
      "needs_background": "light"
     },
     "output_type": "display_data"
    },
    {
     "data": {
      "text/plain": [
       "(23304, 19)"
      ]
     },
     "execution_count": 32,
     "metadata": {},
     "output_type": "execute_result"
    }
   ],
   "source": [
    "from sklearn.decomposition import TruncatedSVD\n",
    "svd = TruncatedSVD(n_components=19)\n",
    "latent_matrix = svd.fit_transform(tfidf_df)\n",
    "# plot var expalined to see what latent dimensions to use\n",
    "explained = svd.explained_variance_ratio_.cumsum()\n",
    "plt.plot(explained, '.-', ms = 16, color='red')\n",
    "plt.xlabel('Singular value components', fontsize= 12)\n",
    "plt.ylabel('Cumulative percent of variance', fontsize=12)        \n",
    "plt.show()\n",
    "n = 20\n",
    "latent_matrix_1_df = pd.DataFrame(latent_matrix[:,0:n], index=mov.title.tolist())\n",
    "latent_matrix_1_df.shape"
   ]
  },
  {
   "cell_type": "code",
   "execution_count": 33,
   "metadata": {
    "execution": {
     "iopub.execute_input": "2021-11-17T08:23:39.662381Z",
     "iopub.status.busy": "2021-11-17T08:23:39.661402Z",
     "iopub.status.idle": "2021-11-17T08:23:39.719625Z",
     "shell.execute_reply": "2021-11-17T08:23:39.718563Z",
     "shell.execute_reply.started": "2021-11-17T08:23:39.662323Z"
    }
   },
   "outputs": [
    {
     "data": {
      "text/html": [
       "<div>\n",
       "<style scoped>\n",
       "    .dataframe tbody tr th:only-of-type {\n",
       "        vertical-align: middle;\n",
       "    }\n",
       "\n",
       "    .dataframe tbody tr th {\n",
       "        vertical-align: top;\n",
       "    }\n",
       "\n",
       "    .dataframe thead th {\n",
       "        text-align: right;\n",
       "    }\n",
       "</style>\n",
       "<table border=\"1\" class=\"dataframe\">\n",
       "  <thead>\n",
       "    <tr style=\"text-align: right;\">\n",
       "      <th></th>\n",
       "      <th>content</th>\n",
       "      <th>collaborative</th>\n",
       "      <th>hybrid</th>\n",
       "    </tr>\n",
       "  </thead>\n",
       "  <tbody>\n",
       "    <tr>\n",
       "      <th>Shrek the Third (2007)</th>\n",
       "      <td>1.0</td>\n",
       "      <td>0.088647</td>\n",
       "      <td>0.544324</td>\n",
       "    </tr>\n",
       "    <tr>\n",
       "      <th>Monsters, Inc. (2001)</th>\n",
       "      <td>1.0</td>\n",
       "      <td>0.182978</td>\n",
       "      <td>0.591489</td>\n",
       "    </tr>\n",
       "    <tr>\n",
       "      <th>Turbo (2013)</th>\n",
       "      <td>1.0</td>\n",
       "      <td>0.093633</td>\n",
       "      <td>0.546817</td>\n",
       "    </tr>\n",
       "    <tr>\n",
       "      <th>Emperor's New Groove, The (2000)</th>\n",
       "      <td>1.0</td>\n",
       "      <td>0.362898</td>\n",
       "      <td>0.681449</td>\n",
       "    </tr>\n",
       "    <tr>\n",
       "      <th>Adventures of Rocky and Bullwinkle, The (2000)</th>\n",
       "      <td>1.0</td>\n",
       "      <td>0.397431</td>\n",
       "      <td>0.698716</td>\n",
       "    </tr>\n",
       "    <tr>\n",
       "      <th>DuckTales: The Movie - Treasure of the Lost Lamp (1990)</th>\n",
       "      <td>1.0</td>\n",
       "      <td>0.055626</td>\n",
       "      <td>0.527813</td>\n",
       "    </tr>\n",
       "    <tr>\n",
       "      <th>Wild, The (2006)</th>\n",
       "      <td>1.0</td>\n",
       "      <td>0.040631</td>\n",
       "      <td>0.520315</td>\n",
       "    </tr>\n",
       "    <tr>\n",
       "      <th>Toy Story 2 (1999)</th>\n",
       "      <td>1.0</td>\n",
       "      <td>0.623526</td>\n",
       "      <td>0.811763</td>\n",
       "    </tr>\n",
       "    <tr>\n",
       "      <th>Antz (1998)</th>\n",
       "      <td>1.0</td>\n",
       "      <td>0.507522</td>\n",
       "      <td>0.753761</td>\n",
       "    </tr>\n",
       "    <tr>\n",
       "      <th>Tale of Despereaux, The (2008)</th>\n",
       "      <td>1.0</td>\n",
       "      <td>0.047600</td>\n",
       "      <td>0.523800</td>\n",
       "    </tr>\n",
       "    <tr>\n",
       "      <th>Asterix and the Vikings (Astérix et les Vikings) (2006)</th>\n",
       "      <td>1.0</td>\n",
       "      <td>0.069452</td>\n",
       "      <td>0.534726</td>\n",
       "    </tr>\n",
       "  </tbody>\n",
       "</table>\n",
       "</div>"
      ],
      "text/plain": [
       "                                                    content  collaborative  \\\n",
       "Shrek the Third (2007)                                  1.0       0.088647   \n",
       "Monsters, Inc. (2001)                                   1.0       0.182978   \n",
       "Turbo (2013)                                            1.0       0.093633   \n",
       "Emperor's New Groove, The (2000)                        1.0       0.362898   \n",
       "Adventures of Rocky and Bullwinkle, The (2000)          1.0       0.397431   \n",
       "DuckTales: The Movie - Treasure of the Lost Lam...      1.0       0.055626   \n",
       "Wild, The (2006)                                        1.0       0.040631   \n",
       "Toy Story 2 (1999)                                      1.0       0.623526   \n",
       "Antz (1998)                                             1.0       0.507522   \n",
       "Tale of Despereaux, The (2008)                          1.0       0.047600   \n",
       "Asterix and the Vikings (Astérix et les Vikings...      1.0       0.069452   \n",
       "\n",
       "                                                      hybrid  \n",
       "Shrek the Third (2007)                              0.544324  \n",
       "Monsters, Inc. (2001)                               0.591489  \n",
       "Turbo (2013)                                        0.546817  \n",
       "Emperor's New Groove, The (2000)                    0.681449  \n",
       "Adventures of Rocky and Bullwinkle, The (2000)      0.698716  \n",
       "DuckTales: The Movie - Treasure of the Lost Lam...  0.527813  \n",
       "Wild, The (2006)                                    0.520315  \n",
       "Toy Story 2 (1999)                                  0.811763  \n",
       "Antz (1998)                                         0.753761  \n",
       "Tale of Despereaux, The (2008)                      0.523800  \n",
       "Asterix and the Vikings (Astérix et les Vikings...  0.534726  "
      ]
     },
     "execution_count": 33,
     "metadata": {},
     "output_type": "execute_result"
    }
   ],
   "source": [
    "from sklearn.metrics.pairwise import cosine_similarity\n",
    "# take the latent vectors for a selected movie from both content \n",
    "# and collaborative matrixes\n",
    "a_1 = np.array(latent_matrix_1_df.loc['Toy Story (1995)']).reshape(1, -1)\n",
    "a_2 = np.array(latent_matrix_2_df.loc[\"Toy Story (1995)\"]).reshape(1, -1)\n",
    "\n",
    "# calculate the similartity of this movie with the others in the list\n",
    "score_1 = cosine_similarity(latent_matrix_1_df, a_1).reshape(-1)\n",
    "score_2 = cosine_similarity(latent_matrix_2_df, a_2).reshape(-1)\n",
    "\n",
    "# an average measure of both content and collaborative \n",
    "hybrid = ((score_1 + score_2)/2.0)\n",
    "\n",
    "# form a data frame of similar movies \n",
    "dictDf = {'content': score_1 , 'collaborative': score_2, 'hybrid': hybrid} \n",
    "# dictDf = {'collaborative': score_2} \n",
    "similar = pd.DataFrame(dictDf, index = latent_matrix_2_df.index )\n",
    "\n",
    "#sort it on the basis of either: content, collaborative or hybrid, \n",
    "# here : content\n",
    "similar.sort_values('content', ascending=False, inplace=True)\n",
    "\n",
    "similar[1:].head(11)"
   ]
  },
  {
   "cell_type": "code",
   "execution_count": 34,
   "metadata": {
    "execution": {
     "iopub.execute_input": "2021-11-17T08:24:02.011087Z",
     "iopub.status.busy": "2021-11-17T08:24:02.010779Z",
     "iopub.status.idle": "2021-11-17T08:24:02.027828Z",
     "shell.execute_reply": "2021-11-17T08:24:02.027142Z",
     "shell.execute_reply.started": "2021-11-17T08:24:02.011057Z"
    }
   },
   "outputs": [
    {
     "data": {
      "text/html": [
       "<div>\n",
       "<style scoped>\n",
       "    .dataframe tbody tr th:only-of-type {\n",
       "        vertical-align: middle;\n",
       "    }\n",
       "\n",
       "    .dataframe tbody tr th {\n",
       "        vertical-align: top;\n",
       "    }\n",
       "\n",
       "    .dataframe thead th {\n",
       "        text-align: right;\n",
       "    }\n",
       "</style>\n",
       "<table border=\"1\" class=\"dataframe\">\n",
       "  <thead>\n",
       "    <tr style=\"text-align: right;\">\n",
       "      <th></th>\n",
       "      <th>content</th>\n",
       "      <th>collaborative</th>\n",
       "      <th>hybrid</th>\n",
       "    </tr>\n",
       "  </thead>\n",
       "  <tbody>\n",
       "    <tr>\n",
       "      <th>Toy Story 2 (1999)</th>\n",
       "      <td>1.000000</td>\n",
       "      <td>0.623526</td>\n",
       "      <td>0.811763</td>\n",
       "    </tr>\n",
       "    <tr>\n",
       "      <th>Star Wars: Episode IV - A New Hope (1977)</th>\n",
       "      <td>0.203697</td>\n",
       "      <td>0.587625</td>\n",
       "      <td>0.395661</td>\n",
       "    </tr>\n",
       "    <tr>\n",
       "      <th>Independence Day (a.k.a. ID4) (1996)</th>\n",
       "      <td>0.188643</td>\n",
       "      <td>0.583258</td>\n",
       "      <td>0.385951</td>\n",
       "    </tr>\n",
       "    <tr>\n",
       "      <th>Aladdin (1992)</th>\n",
       "      <td>0.765782</td>\n",
       "      <td>0.572198</td>\n",
       "      <td>0.668990</td>\n",
       "    </tr>\n",
       "    <tr>\n",
       "      <th>Star Wars: Episode VI - Return of the Jedi (1983)</th>\n",
       "      <td>0.203697</td>\n",
       "      <td>0.571116</td>\n",
       "      <td>0.387406</td>\n",
       "    </tr>\n",
       "    <tr>\n",
       "      <th>Mission: Impossible (1996)</th>\n",
       "      <td>0.213783</td>\n",
       "      <td>0.565983</td>\n",
       "      <td>0.389883</td>\n",
       "    </tr>\n",
       "    <tr>\n",
       "      <th>Twister (1996)</th>\n",
       "      <td>0.233485</td>\n",
       "      <td>0.562620</td>\n",
       "      <td>0.398052</td>\n",
       "    </tr>\n",
       "    <tr>\n",
       "      <th>Back to the Future (1985)</th>\n",
       "      <td>0.298185</td>\n",
       "      <td>0.562061</td>\n",
       "      <td>0.430123</td>\n",
       "    </tr>\n",
       "    <tr>\n",
       "      <th>James and the Giant Peach (1996)</th>\n",
       "      <td>0.857026</td>\n",
       "      <td>0.561142</td>\n",
       "      <td>0.709084</td>\n",
       "    </tr>\n",
       "    <tr>\n",
       "      <th>Men in Black (a.k.a. MIB) (1997)</th>\n",
       "      <td>0.087419</td>\n",
       "      <td>0.560507</td>\n",
       "      <td>0.323963</td>\n",
       "    </tr>\n",
       "    <tr>\n",
       "      <th>Bug's Life, A (1998)</th>\n",
       "      <td>0.881032</td>\n",
       "      <td>0.551674</td>\n",
       "      <td>0.716353</td>\n",
       "    </tr>\n",
       "  </tbody>\n",
       "</table>\n",
       "</div>"
      ],
      "text/plain": [
       "                                                    content  collaborative  \\\n",
       "Toy Story 2 (1999)                                 1.000000       0.623526   \n",
       "Star Wars: Episode IV - A New Hope (1977)          0.203697       0.587625   \n",
       "Independence Day (a.k.a. ID4) (1996)               0.188643       0.583258   \n",
       "Aladdin (1992)                                     0.765782       0.572198   \n",
       "Star Wars: Episode VI - Return of the Jedi (1983)  0.203697       0.571116   \n",
       "Mission: Impossible (1996)                         0.213783       0.565983   \n",
       "Twister (1996)                                     0.233485       0.562620   \n",
       "Back to the Future (1985)                          0.298185       0.562061   \n",
       "James and the Giant Peach (1996)                   0.857026       0.561142   \n",
       "Men in Black (a.k.a. MIB) (1997)                   0.087419       0.560507   \n",
       "Bug's Life, A (1998)                               0.881032       0.551674   \n",
       "\n",
       "                                                     hybrid  \n",
       "Toy Story 2 (1999)                                 0.811763  \n",
       "Star Wars: Episode IV - A New Hope (1977)          0.395661  \n",
       "Independence Day (a.k.a. ID4) (1996)               0.385951  \n",
       "Aladdin (1992)                                     0.668990  \n",
       "Star Wars: Episode VI - Return of the Jedi (1983)  0.387406  \n",
       "Mission: Impossible (1996)                         0.389883  \n",
       "Twister (1996)                                     0.398052  \n",
       "Back to the Future (1985)                          0.430123  \n",
       "James and the Giant Peach (1996)                   0.709084  \n",
       "Men in Black (a.k.a. MIB) (1997)                   0.323963  \n",
       "Bug's Life, A (1998)                               0.716353  "
      ]
     },
     "execution_count": 34,
     "metadata": {},
     "output_type": "execute_result"
    }
   ],
   "source": [
    "similar.sort_values('collaborative', ascending=False, inplace=True)\n",
    "\n",
    "similar[1:].head(11)"
   ]
  },
  {
   "cell_type": "code",
   "execution_count": 35,
   "metadata": {
    "execution": {
     "iopub.execute_input": "2021-11-17T08:24:11.931415Z",
     "iopub.status.busy": "2021-11-17T08:24:11.930788Z",
     "iopub.status.idle": "2021-11-17T08:24:11.948848Z",
     "shell.execute_reply": "2021-11-17T08:24:11.947985Z",
     "shell.execute_reply.started": "2021-11-17T08:24:11.931364Z"
    }
   },
   "outputs": [
    {
     "data": {
      "text/html": [
       "<div>\n",
       "<style scoped>\n",
       "    .dataframe tbody tr th:only-of-type {\n",
       "        vertical-align: middle;\n",
       "    }\n",
       "\n",
       "    .dataframe tbody tr th {\n",
       "        vertical-align: top;\n",
       "    }\n",
       "\n",
       "    .dataframe thead th {\n",
       "        text-align: right;\n",
       "    }\n",
       "</style>\n",
       "<table border=\"1\" class=\"dataframe\">\n",
       "  <thead>\n",
       "    <tr style=\"text-align: right;\">\n",
       "      <th></th>\n",
       "      <th>content</th>\n",
       "      <th>collaborative</th>\n",
       "      <th>hybrid</th>\n",
       "    </tr>\n",
       "  </thead>\n",
       "  <tbody>\n",
       "    <tr>\n",
       "      <th>Toy Story 2 (1999)</th>\n",
       "      <td>1.000000</td>\n",
       "      <td>0.623526</td>\n",
       "      <td>0.811763</td>\n",
       "    </tr>\n",
       "    <tr>\n",
       "      <th>Antz (1998)</th>\n",
       "      <td>1.000000</td>\n",
       "      <td>0.507522</td>\n",
       "      <td>0.753761</td>\n",
       "    </tr>\n",
       "    <tr>\n",
       "      <th>Bug's Life, A (1998)</th>\n",
       "      <td>0.881032</td>\n",
       "      <td>0.551674</td>\n",
       "      <td>0.716353</td>\n",
       "    </tr>\n",
       "    <tr>\n",
       "      <th>James and the Giant Peach (1996)</th>\n",
       "      <td>0.857026</td>\n",
       "      <td>0.561142</td>\n",
       "      <td>0.709084</td>\n",
       "    </tr>\n",
       "    <tr>\n",
       "      <th>Adventures of Rocky and Bullwinkle, The (2000)</th>\n",
       "      <td>1.000000</td>\n",
       "      <td>0.397431</td>\n",
       "      <td>0.698716</td>\n",
       "    </tr>\n",
       "    <tr>\n",
       "      <th>Space Jam (1996)</th>\n",
       "      <td>0.845235</td>\n",
       "      <td>0.527774</td>\n",
       "      <td>0.686504</td>\n",
       "    </tr>\n",
       "    <tr>\n",
       "      <th>Emperor's New Groove, The (2000)</th>\n",
       "      <td>1.000000</td>\n",
       "      <td>0.362898</td>\n",
       "      <td>0.681449</td>\n",
       "    </tr>\n",
       "    <tr>\n",
       "      <th>Shrek (2001)</th>\n",
       "      <td>0.946635</td>\n",
       "      <td>0.407713</td>\n",
       "      <td>0.677174</td>\n",
       "    </tr>\n",
       "    <tr>\n",
       "      <th>Who Framed Roger Rabbit? (1988)</th>\n",
       "      <td>0.855802</td>\n",
       "      <td>0.487356</td>\n",
       "      <td>0.671579</td>\n",
       "    </tr>\n",
       "    <tr>\n",
       "      <th>Aladdin (1992)</th>\n",
       "      <td>0.765782</td>\n",
       "      <td>0.572198</td>\n",
       "      <td>0.668990</td>\n",
       "    </tr>\n",
       "    <tr>\n",
       "      <th>Lord of the Rings, The (1978)</th>\n",
       "      <td>0.965606</td>\n",
       "      <td>0.355518</td>\n",
       "      <td>0.660562</td>\n",
       "    </tr>\n",
       "  </tbody>\n",
       "</table>\n",
       "</div>"
      ],
      "text/plain": [
       "                                                 content  collaborative  \\\n",
       "Toy Story 2 (1999)                              1.000000       0.623526   \n",
       "Antz (1998)                                     1.000000       0.507522   \n",
       "Bug's Life, A (1998)                            0.881032       0.551674   \n",
       "James and the Giant Peach (1996)                0.857026       0.561142   \n",
       "Adventures of Rocky and Bullwinkle, The (2000)  1.000000       0.397431   \n",
       "Space Jam (1996)                                0.845235       0.527774   \n",
       "Emperor's New Groove, The (2000)                1.000000       0.362898   \n",
       "Shrek (2001)                                    0.946635       0.407713   \n",
       "Who Framed Roger Rabbit? (1988)                 0.855802       0.487356   \n",
       "Aladdin (1992)                                  0.765782       0.572198   \n",
       "Lord of the Rings, The (1978)                   0.965606       0.355518   \n",
       "\n",
       "                                                  hybrid  \n",
       "Toy Story 2 (1999)                              0.811763  \n",
       "Antz (1998)                                     0.753761  \n",
       "Bug's Life, A (1998)                            0.716353  \n",
       "James and the Giant Peach (1996)                0.709084  \n",
       "Adventures of Rocky and Bullwinkle, The (2000)  0.698716  \n",
       "Space Jam (1996)                                0.686504  \n",
       "Emperor's New Groove, The (2000)                0.681449  \n",
       "Shrek (2001)                                    0.677174  \n",
       "Who Framed Roger Rabbit? (1988)                 0.671579  \n",
       "Aladdin (1992)                                  0.668990  \n",
       "Lord of the Rings, The (1978)                   0.660562  "
      ]
     },
     "execution_count": 35,
     "metadata": {},
     "output_type": "execute_result"
    }
   ],
   "source": [
    "similar.sort_values('hybrid', ascending=False, inplace=True)\n",
    "\n",
    "similar[1:].head(11)"
   ]
  },
  {
   "cell_type": "markdown",
   "metadata": {},
   "source": [
    "**3. Hybrid Recommendation System**"
   ]
  },
  {
   "cell_type": "code",
   "execution_count": 36,
   "metadata": {
    "execution": {
     "iopub.execute_input": "2021-11-17T08:24:57.171504Z",
     "iopub.status.busy": "2021-11-17T08:24:57.171126Z",
     "iopub.status.idle": "2021-11-17T08:24:57.180166Z",
     "shell.execute_reply": "2021-11-17T08:24:57.178614Z",
     "shell.execute_reply.started": "2021-11-17T08:24:57.171469Z"
    }
   },
   "outputs": [],
   "source": [
    "def recommend_similar_movies(title):\n",
    "    # take the latent vectors for a selected movie from both content \n",
    "    # and collaborative matrixes\n",
    "    a_1 = np.array(latent_matrix_1_df.loc[title]).reshape(1, -1)\n",
    "    a_2 = np.array(latent_matrix_2_df.loc[title]).reshape(1, -1)\n",
    "\n",
    "    # calculate the similartity of this movie with the others in the list\n",
    "    score_1 = cosine_similarity(latent_matrix_1_df, a_1).reshape(-1)\n",
    "    score_2 = cosine_similarity(latent_matrix_2_df, a_2).reshape(-1)\n",
    "\n",
    "    # an average measure of both content and collaborative \n",
    "    hybrid = ((score_1 + score_2)/2.0)\n",
    "\n",
    "    # form a data frame of similar movies \n",
    "    dictDf = {'content': score_1 , 'collaborative': score_2, 'hybrid': hybrid} \n",
    "    similar = pd.DataFrame(dictDf, index = latent_matrix_2_df.index )\n",
    "\n",
    "    #sort it on the basis of either: content, collaborative or hybrid\n",
    "    similar.sort_values('hybrid', ascending=False, inplace=True)\n",
    "\n",
    "    print(similar[1:].head(11))"
   ]
  },
  {
   "cell_type": "code",
   "execution_count": 37,
   "metadata": {
    "execution": {
     "iopub.execute_input": "2021-11-17T08:25:05.191078Z",
     "iopub.status.busy": "2021-11-17T08:25:05.19076Z",
     "iopub.status.idle": "2021-11-17T08:25:05.235573Z",
     "shell.execute_reply": "2021-11-17T08:25:05.234445Z",
     "shell.execute_reply.started": "2021-11-17T08:25:05.191041Z"
    }
   },
   "outputs": [
    {
     "name": "stdout",
     "output_type": "stream",
     "text": [
      "                                                 content  collaborative  \\\n",
      "Toy Story 2 (1999)                              1.000000       0.623526   \n",
      "Antz (1998)                                     1.000000       0.507522   \n",
      "Bug's Life, A (1998)                            0.881032       0.551674   \n",
      "James and the Giant Peach (1996)                0.857026       0.561142   \n",
      "Adventures of Rocky and Bullwinkle, The (2000)  1.000000       0.397431   \n",
      "Space Jam (1996)                                0.845235       0.527774   \n",
      "Emperor's New Groove, The (2000)                1.000000       0.362898   \n",
      "Shrek (2001)                                    0.946635       0.407713   \n",
      "Who Framed Roger Rabbit? (1988)                 0.855802       0.487356   \n",
      "Aladdin (1992)                                  0.765782       0.572198   \n",
      "Lord of the Rings, The (1978)                   0.965606       0.355518   \n",
      "\n",
      "                                                  hybrid  \n",
      "Toy Story 2 (1999)                              0.811763  \n",
      "Antz (1998)                                     0.753761  \n",
      "Bug's Life, A (1998)                            0.716353  \n",
      "James and the Giant Peach (1996)                0.709084  \n",
      "Adventures of Rocky and Bullwinkle, The (2000)  0.698716  \n",
      "Space Jam (1996)                                0.686504  \n",
      "Emperor's New Groove, The (2000)                0.681449  \n",
      "Shrek (2001)                                    0.677174  \n",
      "Who Framed Roger Rabbit? (1988)                 0.671579  \n",
      "Aladdin (1992)                                  0.668990  \n",
      "Lord of the Rings, The (1978)                   0.660562  \n"
     ]
    }
   ],
   "source": [
    "recommend_similar_movies(\"Toy Story (1995)\")"
   ]
  },
  {
   "cell_type": "code",
   "execution_count": 38,
   "metadata": {
    "execution": {
     "iopub.execute_input": "2021-11-17T08:25:27.646458Z",
     "iopub.status.busy": "2021-11-17T08:25:27.645654Z",
     "iopub.status.idle": "2021-11-17T08:25:27.68914Z",
     "shell.execute_reply": "2021-11-17T08:25:27.688121Z",
     "shell.execute_reply.started": "2021-11-17T08:25:27.646419Z"
    }
   },
   "outputs": [
    {
     "name": "stdout",
     "output_type": "stream",
     "text": [
      "                                 content  collaborative    hybrid\n",
      "Cliffhanger (1993)               1.00000       0.747327  0.873664\n",
      "Tomorrow Never Dies (1997)       1.00000       0.659322  0.829661\n",
      "Broken Arrow (1996)              1.00000       0.601775  0.800887\n",
      "World Is Not Enough, The (1999)  1.00000       0.601672  0.800836\n",
      "True Lies (1994)                 0.83349       0.686472  0.759981\n",
      "Con Air (1997)                   1.00000       0.508484  0.754242\n",
      "Die Hard 2 (1990)                1.00000       0.507248  0.753624\n",
      "Rock, The (1996)                 1.00000       0.504177  0.752088\n",
      "Licence to Kill (1989)           1.00000       0.475387  0.737694\n",
      "View to a Kill, A (1985)         1.00000       0.452630  0.726315\n",
      "Goldfinger (1964)                1.00000       0.451704  0.725852\n"
     ]
    }
   ],
   "source": [
    "recommend_similar_movies(\"GoldenEye (1995)\")"
   ]
  },
  {
   "cell_type": "code",
   "execution_count": 39,
   "metadata": {
    "execution": {
     "iopub.execute_input": "2021-11-17T08:25:38.89099Z",
     "iopub.status.busy": "2021-11-17T08:25:38.890533Z",
     "iopub.status.idle": "2021-11-17T08:25:38.932456Z",
     "shell.execute_reply": "2021-11-17T08:25:38.931554Z",
     "shell.execute_reply.started": "2021-11-17T08:25:38.890955Z"
    }
   },
   "outputs": [
    {
     "name": "stdout",
     "output_type": "stream",
     "text": [
      "                             content  collaborative    hybrid\n",
      "Rock, The (1996)            0.810065       0.718950  0.764507\n",
      "Broken Arrow (1996)         0.810065       0.698718  0.754391\n",
      "Twister (1996)              0.716681       0.770523  0.743602\n",
      "Executive Decision (1996)   0.810065       0.604431  0.707248\n",
      "Con Air (1997)              0.810065       0.584034  0.697050\n",
      "GoldenEye (1995)            0.810065       0.571633  0.690849\n",
      "Die Hard 2 (1990)           0.810065       0.559233  0.684649\n",
      "National Treasure (2004)    0.969667       0.395729  0.682698\n",
      "Tomorrow Never Dies (1997)  0.810065       0.534544  0.672304\n",
      "Chain Reaction (1996)       0.810065       0.531745  0.670905\n",
      "Eraser (1996)               0.577601       0.725898  0.651750\n"
     ]
    }
   ],
   "source": [
    "recommend_similar_movies(\"Mission: Impossible (1996)\")"
   ]
  },
  {
   "cell_type": "markdown",
   "metadata": {},
   "source": [
    "**4. Matrix Factorization Recommender**"
   ]
  },
  {
   "cell_type": "code",
   "execution_count": 6,
   "metadata": {
    "execution": {
     "iopub.execute_input": "2021-11-17T08:29:33.952768Z",
     "iopub.status.busy": "2021-11-17T08:29:33.951896Z",
     "iopub.status.idle": "2021-11-17T08:29:33.975092Z",
     "shell.execute_reply": "2021-11-17T08:29:33.974325Z",
     "shell.execute_reply.started": "2021-11-17T08:29:33.952714Z"
    }
   },
   "outputs": [],
   "source": [
    "class MF():\n",
    "\n",
    "    # Initializing the user-movie rating matrix, no. of latent features, alpha and beta.\n",
    "    def __init__(self, R, K, alpha, beta, iterations):\n",
    "        self.R = R\n",
    "        self.num_users, self.num_items = R.shape\n",
    "        self.K = K\n",
    "        self.alpha = alpha\n",
    "        self.beta = beta\n",
    "        self.iterations = iterations\n",
    "\n",
    "    # Initializing user-feature and movie-feature matrix \n",
    "    def train(self):\n",
    "        self.P = np.random.normal(scale=1./self.K, size=(self.num_users, self.K))\n",
    "        self.Q = np.random.normal(scale=1./self.K, size=(self.num_items, self.K))\n",
    "\n",
    "        # Initializing the bias terms\n",
    "        self.b_u = np.zeros(self.num_users)\n",
    "        self.b_i = np.zeros(self.num_items)\n",
    "        self.b = np.mean(self.R[np.where(self.R != 0)])\n",
    "\n",
    "        # List of training samples\n",
    "        self.samples = [\n",
    "        (i, j, self.R[i, j])\n",
    "        for i in range(self.num_users)\n",
    "        for j in range(self.num_items)\n",
    "        if self.R[i, j] > 0\n",
    "        ]\n",
    "\n",
    "        # Stochastic gradient descent for given number of iterations\n",
    "        training_process = []\n",
    "        for i in range(self.iterations):\n",
    "            np.random.shuffle(self.samples)\n",
    "            self.sgd()\n",
    "            mse = self.mse()\n",
    "            training_process.append((i, mse))\n",
    "            if (i+1) % 20 == 0:\n",
    "                print(\"Iteration: %d ; error = %.4f\" % (i+1, mse))\n",
    "\n",
    "        return training_process\n",
    "\n",
    "    # Computing total mean squared error\n",
    "    def mse(self):\n",
    "        xs, ys = self.R.nonzero()\n",
    "        predicted = self.full_matrix()\n",
    "        error = 0\n",
    "        for x, y in zip(xs, ys):\n",
    "            error += pow(self.R[x, y] - predicted[x, y], 2)\n",
    "        return np.sqrt(error)\n",
    "\n",
    "    # Stochastic gradient descent to get optimized P and Q matrix\n",
    "    def sgd(self):\n",
    "        for i, j, r in self.samples:\n",
    "            prediction = self.get_rating(i, j)\n",
    "            e = (r - prediction)\n",
    "\n",
    "            self.b_u[i] += self.alpha * (e - self.beta * self.b_u[i])\n",
    "            self.b_i[j] += self.alpha * (e - self.beta * self.b_i[j])\n",
    "\n",
    "            self.P[i, :] += self.alpha * (e * self.Q[j, :] - self.beta * self.P[i,:])\n",
    "            self.Q[j, :] += self.alpha * (e * self.P[i, :] - self.beta * self.Q[j,:])\n",
    "\n",
    "    # Ratings for user i and moive j\n",
    "    def get_rating(self, i, j):\n",
    "        prediction = self.b + self.b_u[i] + self.b_i[j] + self.P[i, :].dot(self.Q[j, :].T)\n",
    "        return prediction\n",
    "\n",
    "    # Full user-movie rating matrix\n",
    "    def full_matrix(self):\n",
    "        return mf.b + mf.b_u[:,np.newaxis] + mf.b_i[np.newaxis:,] + mf.P.dot(mf.Q.T)"
   ]
  },
  {
   "cell_type": "code",
   "execution_count": 8,
   "metadata": {},
   "outputs": [
    {
     "data": {
      "text/html": [
       "<div>\n",
       "<style scoped>\n",
       "    .dataframe tbody tr th:only-of-type {\n",
       "        vertical-align: middle;\n",
       "    }\n",
       "\n",
       "    .dataframe tbody tr th {\n",
       "        vertical-align: top;\n",
       "    }\n",
       "\n",
       "    .dataframe thead th {\n",
       "        text-align: right;\n",
       "    }\n",
       "</style>\n",
       "<table border=\"1\" class=\"dataframe\">\n",
       "  <thead>\n",
       "    <tr style=\"text-align: right;\">\n",
       "      <th></th>\n",
       "      <th>userId</th>\n",
       "      <th>movieId</th>\n",
       "      <th>rating</th>\n",
       "      <th>timestamp</th>\n",
       "    </tr>\n",
       "  </thead>\n",
       "  <tbody>\n",
       "    <tr>\n",
       "      <th>0</th>\n",
       "      <td>1</td>\n",
       "      <td>2</td>\n",
       "      <td>3.5</td>\n",
       "      <td>1112486027</td>\n",
       "    </tr>\n",
       "    <tr>\n",
       "      <th>1</th>\n",
       "      <td>1</td>\n",
       "      <td>29</td>\n",
       "      <td>3.5</td>\n",
       "      <td>1112484676</td>\n",
       "    </tr>\n",
       "    <tr>\n",
       "      <th>2</th>\n",
       "      <td>1</td>\n",
       "      <td>32</td>\n",
       "      <td>3.5</td>\n",
       "      <td>1112484819</td>\n",
       "    </tr>\n",
       "    <tr>\n",
       "      <th>3</th>\n",
       "      <td>1</td>\n",
       "      <td>47</td>\n",
       "      <td>3.5</td>\n",
       "      <td>1112484727</td>\n",
       "    </tr>\n",
       "    <tr>\n",
       "      <th>4</th>\n",
       "      <td>1</td>\n",
       "      <td>50</td>\n",
       "      <td>3.5</td>\n",
       "      <td>1112484580</td>\n",
       "    </tr>\n",
       "  </tbody>\n",
       "</table>\n",
       "</div>"
      ],
      "text/plain": [
       "   userId  movieId  rating   timestamp\n",
       "0       1        2     3.5  1112486027\n",
       "1       1       29     3.5  1112484676\n",
       "2       1       32     3.5  1112484819\n",
       "3       1       47     3.5  1112484727\n",
       "4       1       50     3.5  1112484580"
      ]
     },
     "execution_count": 8,
     "metadata": {},
     "output_type": "execute_result"
    }
   ],
   "source": [
    "ratings_mat=pd.read_csv('ml-20m/ratings.csv',nrows=200000)\n",
    "ratings_mat.head()"
   ]
  },
  {
   "cell_type": "code",
   "execution_count": 10,
   "metadata": {
    "execution": {
     "iopub.execute_input": "2021-11-17T08:30:08.245965Z",
     "iopub.status.busy": "2021-11-17T08:30:08.245292Z",
     "iopub.status.idle": "2021-11-17T08:30:08.515945Z",
     "shell.execute_reply": "2021-11-17T08:30:08.515222Z",
     "shell.execute_reply.started": "2021-11-17T08:30:08.245841Z"
    }
   },
   "outputs": [],
   "source": [
    "R= np.array(ratings_mat.pivot(index = 'userId', columns ='movieId', values = 'rating').fillna(0))"
   ]
  },
  {
   "cell_type": "code",
   "execution_count": 11,
   "metadata": {
    "execution": {
     "iopub.execute_input": "2021-11-17T08:30:31.667004Z",
     "iopub.status.busy": "2021-11-17T08:30:31.666528Z",
     "iopub.status.idle": "2021-11-17T08:37:40.373682Z",
     "shell.execute_reply": "2021-11-17T08:37:40.3728Z",
     "shell.execute_reply.started": "2021-11-17T08:30:31.666961Z"
    }
   },
   "outputs": [
    {
     "name": "stdout",
     "output_type": "stream",
     "text": [
      "Iteration: 20 ; error = 398.8080\n",
      "Iteration: 40 ; error = 387.2905\n",
      "Iteration: 60 ; error = 374.2605\n",
      "Iteration: 80 ; error = 363.2181\n",
      "Iteration: 100 ; error = 348.0103\n",
      "\n",
      "P x Q:\n",
      "[[3.93766962 3.40712942 3.2954438  ... 3.51617502 3.56198828 3.57862946]\n",
      " [4.50699858 3.7235064  3.67170349 ... 3.93631044 3.9792866  3.95268475]\n",
      " [4.5195893  3.85449172 3.61555455 ... 3.94372804 4.00990177 4.03349026]\n",
      " ...\n",
      " [3.61218713 3.00886503 2.75770606 ... 3.06155628 3.1632187  3.16471725]\n",
      " [3.98774698 3.3549507  3.2377731  ... 3.52263069 3.57069617 3.54411935]\n",
      " [4.38956087 3.64180228 3.51758012 ... 3.77740744 3.81378443 3.85688888]]\n",
      "\n"
     ]
    }
   ],
   "source": [
    "mf = MF(R, K=20, alpha=0.001, beta=0.01, iterations=100)\n",
    "training_process = mf.train()\n",
    "print()\n",
    "print(\"P x Q:\")\n",
    "print(mf.full_matrix())\n",
    "print()"
   ]
  },
  {
   "cell_type": "code",
   "execution_count": 12,
   "metadata": {
    "execution": {
     "iopub.execute_input": "2021-11-17T08:45:03.781744Z",
     "iopub.status.busy": "2021-11-17T08:45:03.781445Z",
     "iopub.status.idle": "2021-11-17T08:45:03.833284Z",
     "shell.execute_reply": "2021-11-17T08:45:03.832425Z",
     "shell.execute_reply.started": "2021-11-17T08:45:03.781713Z"
    }
   },
   "outputs": [],
   "source": [
    "from surprise import Dataset, Reader, SVD, accuracy\n",
    "from surprise.model_selection import train_test_split"
   ]
  },
  {
   "cell_type": "code",
   "execution_count": 13,
   "metadata": {
    "execution": {
     "iopub.execute_input": "2021-11-17T08:46:24.85728Z",
     "iopub.status.busy": "2021-11-17T08:46:24.856967Z",
     "iopub.status.idle": "2021-11-17T08:46:24.866902Z",
     "shell.execute_reply": "2021-11-17T08:46:24.865977Z",
     "shell.execute_reply.started": "2021-11-17T08:46:24.857246Z"
    }
   },
   "outputs": [],
   "source": [
    "Mapping_file = dict(zip(movies.title.tolist(), movies.movieId.tolist()))"
   ]
  },
  {
   "cell_type": "code",
   "execution_count": 14,
   "metadata": {
    "execution": {
     "iopub.execute_input": "2021-11-17T08:47:38.014948Z",
     "iopub.status.busy": "2021-11-17T08:47:38.01408Z",
     "iopub.status.idle": "2021-11-17T08:47:48.309467Z",
     "shell.execute_reply": "2021-11-17T08:47:48.308404Z",
     "shell.execute_reply.started": "2021-11-17T08:47:38.014901Z"
    }
   },
   "outputs": [
    {
     "name": "stdout",
     "output_type": "stream",
     "text": [
      "RMSE: 0.8974\n"
     ]
    },
    {
     "data": {
      "text/plain": [
       "0.8973552521661987"
      ]
     },
     "execution_count": 14,
     "metadata": {},
     "output_type": "execute_result"
    }
   ],
   "source": [
    "# instantiate a reader and read in our rating data\n",
    "reader = Reader(rating_scale=(1, 5))\n",
    "data = Dataset.load_from_df(ratings_mat[['userId','movieId','rating']], reader)\n",
    "\n",
    "# train SVD on 75% of known rates\n",
    "trainset, testset = train_test_split(data, test_size=.25)\n",
    "algorithm = SVD()\n",
    "algorithm.fit(trainset)\n",
    "predictions = algorithm.test(testset)\n",
    "\n",
    "# check the accuracy using Root Mean Square Error\n",
    "accuracy.rmse(predictions)"
   ]
  },
  {
   "cell_type": "code",
   "execution_count": 15,
   "metadata": {
    "execution": {
     "iopub.execute_input": "2021-11-17T08:48:40.760582Z",
     "iopub.status.busy": "2021-11-17T08:48:40.76029Z",
     "iopub.status.idle": "2021-11-17T08:48:40.767982Z",
     "shell.execute_reply": "2021-11-17T08:48:40.767154Z",
     "shell.execute_reply.started": "2021-11-17T08:48:40.760552Z"
    }
   },
   "outputs": [],
   "source": [
    "def pred_user_rating(ui):\n",
    "    if ui in ratings.userId.unique():\n",
    "        ui_list = ratings[ratings.userId == ui].movieId.tolist()\n",
    "        d = {k: v for k,v in Mapping_file.items() if not v in ui_list}        \n",
    "        predictedL = []\n",
    "        for i, j in d.items():     \n",
    "            predicted = algorithm.predict(ui, j)\n",
    "            predictedL.append((i, predicted[3])) \n",
    "        pdf = pd.DataFrame(predictedL, columns = ['movies', 'ratings'])\n",
    "        pdf.sort_values('ratings', ascending=False, inplace=True)  \n",
    "        pdf.set_index('movies', inplace=True)    \n",
    "        return pdf.head(10)        \n",
    "    else:\n",
    "        print(\"User Id does not exist in the list!\")\n",
    "        return None"
   ]
  },
  {
   "cell_type": "code",
   "execution_count": 18,
   "metadata": {
    "execution": {
     "iopub.execute_input": "2021-11-17T08:48:48.931485Z",
     "iopub.status.busy": "2021-11-17T08:48:48.930782Z",
     "iopub.status.idle": "2021-11-17T08:48:49.174627Z",
     "shell.execute_reply": "2021-11-17T08:48:49.17375Z",
     "shell.execute_reply.started": "2021-11-17T08:48:48.931435Z"
    }
   },
   "outputs": [
    {
     "data": {
      "text/html": [
       "<div>\n",
       "<style scoped>\n",
       "    .dataframe tbody tr th:only-of-type {\n",
       "        vertical-align: middle;\n",
       "    }\n",
       "\n",
       "    .dataframe tbody tr th {\n",
       "        vertical-align: top;\n",
       "    }\n",
       "\n",
       "    .dataframe thead th {\n",
       "        text-align: right;\n",
       "    }\n",
       "</style>\n",
       "<table border=\"1\" class=\"dataframe\">\n",
       "  <thead>\n",
       "    <tr style=\"text-align: right;\">\n",
       "      <th></th>\n",
       "      <th>ratings</th>\n",
       "    </tr>\n",
       "    <tr>\n",
       "      <th>movies</th>\n",
       "      <th></th>\n",
       "    </tr>\n",
       "  </thead>\n",
       "  <tbody>\n",
       "    <tr>\n",
       "      <th>Rebecca (1940)</th>\n",
       "      <td>4.443358</td>\n",
       "    </tr>\n",
       "    <tr>\n",
       "      <th>Band of Brothers (2001)</th>\n",
       "      <td>4.383996</td>\n",
       "    </tr>\n",
       "    <tr>\n",
       "      <th>Forrest Gump (1994)</th>\n",
       "      <td>4.373052</td>\n",
       "    </tr>\n",
       "    <tr>\n",
       "      <th>Professional, The (Le professionnel) (1981)</th>\n",
       "      <td>4.340164</td>\n",
       "    </tr>\n",
       "    <tr>\n",
       "      <th>City of God (Cidade de Deus) (2002)</th>\n",
       "      <td>4.332302</td>\n",
       "    </tr>\n",
       "    <tr>\n",
       "      <th>Dr. Horrible's Sing-Along Blog (2008)</th>\n",
       "      <td>4.329188</td>\n",
       "    </tr>\n",
       "    <tr>\n",
       "      <th>Departed, The (2006)</th>\n",
       "      <td>4.327643</td>\n",
       "    </tr>\n",
       "    <tr>\n",
       "      <th>My Neighbor Totoro (Tonari no Totoro) (1988)</th>\n",
       "      <td>4.326567</td>\n",
       "    </tr>\n",
       "    <tr>\n",
       "      <th>Spirited Away (Sen to Chihiro no kamikakushi) (2001)</th>\n",
       "      <td>4.321902</td>\n",
       "    </tr>\n",
       "    <tr>\n",
       "      <th>Paths of Glory (1957)</th>\n",
       "      <td>4.321166</td>\n",
       "    </tr>\n",
       "  </tbody>\n",
       "</table>\n",
       "</div>"
      ],
      "text/plain": [
       "                                                     ratings\n",
       "movies                                                      \n",
       "Rebecca (1940)                                      4.443358\n",
       "Band of Brothers (2001)                             4.383996\n",
       "Forrest Gump (1994)                                 4.373052\n",
       "Professional, The (Le professionnel) (1981)         4.340164\n",
       "City of God (Cidade de Deus) (2002)                 4.332302\n",
       "Dr. Horrible's Sing-Along Blog (2008)               4.329188\n",
       "Departed, The (2006)                                4.327643\n",
       "My Neighbor Totoro (Tonari no Totoro) (1988)        4.326567\n",
       "Spirited Away (Sen to Chihiro no kamikakushi) (...  4.321902\n",
       "Paths of Glory (1957)                               4.321166"
      ]
     },
     "execution_count": 18,
     "metadata": {},
     "output_type": "execute_result"
    }
   ],
   "source": [
    "user_id = 1\n",
    "pred_user_rating(user_id)"
   ]
  },
  {
   "cell_type": "code",
   "execution_count": 19,
   "metadata": {
    "execution": {
     "iopub.execute_input": "2021-11-17T08:49:00.29158Z",
     "iopub.status.busy": "2021-11-17T08:49:00.291253Z",
     "iopub.status.idle": "2021-11-17T08:49:00.51429Z",
     "shell.execute_reply": "2021-11-17T08:49:00.513494Z",
     "shell.execute_reply.started": "2021-11-17T08:49:00.291546Z"
    }
   },
   "outputs": [
    {
     "data": {
      "text/html": [
       "<div>\n",
       "<style scoped>\n",
       "    .dataframe tbody tr th:only-of-type {\n",
       "        vertical-align: middle;\n",
       "    }\n",
       "\n",
       "    .dataframe tbody tr th {\n",
       "        vertical-align: top;\n",
       "    }\n",
       "\n",
       "    .dataframe thead th {\n",
       "        text-align: right;\n",
       "    }\n",
       "</style>\n",
       "<table border=\"1\" class=\"dataframe\">\n",
       "  <thead>\n",
       "    <tr style=\"text-align: right;\">\n",
       "      <th></th>\n",
       "      <th>ratings</th>\n",
       "    </tr>\n",
       "    <tr>\n",
       "      <th>movies</th>\n",
       "      <th></th>\n",
       "    </tr>\n",
       "  </thead>\n",
       "  <tbody>\n",
       "    <tr>\n",
       "      <th>Once Upon a Time in the West (C'era una volta il West) (1968)</th>\n",
       "      <td>4.781510</td>\n",
       "    </tr>\n",
       "    <tr>\n",
       "      <th>Band of Brothers (2001)</th>\n",
       "      <td>4.744946</td>\n",
       "    </tr>\n",
       "    <tr>\n",
       "      <th>Sunset Blvd. (a.k.a. Sunset Boulevard) (1950)</th>\n",
       "      <td>4.724007</td>\n",
       "    </tr>\n",
       "    <tr>\n",
       "      <th>Raiders of the Lost Ark (Indiana Jones and the Raiders of the Lost Ark) (1981)</th>\n",
       "      <td>4.707948</td>\n",
       "    </tr>\n",
       "    <tr>\n",
       "      <th>Dr. Horrible's Sing-Along Blog (2008)</th>\n",
       "      <td>4.662158</td>\n",
       "    </tr>\n",
       "    <tr>\n",
       "      <th>Manchurian Candidate, The (1962)</th>\n",
       "      <td>4.659315</td>\n",
       "    </tr>\n",
       "    <tr>\n",
       "      <th>Godfather, The (1972)</th>\n",
       "      <td>4.654395</td>\n",
       "    </tr>\n",
       "    <tr>\n",
       "      <th>Usual Suspects, The (1995)</th>\n",
       "      <td>4.644874</td>\n",
       "    </tr>\n",
       "    <tr>\n",
       "      <th>Rebecca (1940)</th>\n",
       "      <td>4.640174</td>\n",
       "    </tr>\n",
       "    <tr>\n",
       "      <th>It's a Wonderful Life (1946)</th>\n",
       "      <td>4.617444</td>\n",
       "    </tr>\n",
       "  </tbody>\n",
       "</table>\n",
       "</div>"
      ],
      "text/plain": [
       "                                                     ratings\n",
       "movies                                                      \n",
       "Once Upon a Time in the West (C'era una volta i...  4.781510\n",
       "Band of Brothers (2001)                             4.744946\n",
       "Sunset Blvd. (a.k.a. Sunset Boulevard) (1950)       4.724007\n",
       "Raiders of the Lost Ark (Indiana Jones and the ...  4.707948\n",
       "Dr. Horrible's Sing-Along Blog (2008)               4.662158\n",
       "Manchurian Candidate, The (1962)                    4.659315\n",
       "Godfather, The (1972)                               4.654395\n",
       "Usual Suspects, The (1995)                          4.644874\n",
       "Rebecca (1940)                                      4.640174\n",
       "It's a Wonderful Life (1946)                        4.617444"
      ]
     },
     "execution_count": 19,
     "metadata": {},
     "output_type": "execute_result"
    }
   ],
   "source": [
    "pred_user_rating(50)"
   ]
  },
  {
   "cell_type": "code",
   "execution_count": 21,
   "metadata": {},
   "outputs": [],
   "source": [
    "import turicreate\n",
    "from sklearn.model_selection import train_test_split"
   ]
  },
  {
   "cell_type": "code",
   "execution_count": 22,
   "metadata": {},
   "outputs": [],
   "source": [
    "ratings_train,ratings_test=train_test_split(ratings,test_size=0.25)"
   ]
  },
  {
   "cell_type": "code",
   "execution_count": 23,
   "metadata": {},
   "outputs": [],
   "source": [
    "train_data = turicreate.SFrame(ratings_train)\n",
    "test_data = turicreate.SFrame(ratings_test)"
   ]
  },
  {
   "cell_type": "code",
   "execution_count": 25,
   "metadata": {},
   "outputs": [
    {
     "data": {
      "text/html": [
       "<pre>Warning: Ignoring columns timestamp;</pre>"
      ],
      "text/plain": [
       "Warning: Ignoring columns timestamp;"
      ]
     },
     "metadata": {},
     "output_type": "display_data"
    },
    {
     "data": {
      "text/html": [
       "<pre>    To use these columns in scoring predictions, use a model that allows the use of additional features.</pre>"
      ],
      "text/plain": [
       "    To use these columns in scoring predictions, use a model that allows the use of additional features."
      ]
     },
     "metadata": {},
     "output_type": "display_data"
    },
    {
     "data": {
      "text/html": [
       "<pre>Preparing data set.</pre>"
      ],
      "text/plain": [
       "Preparing data set."
      ]
     },
     "metadata": {},
     "output_type": "display_data"
    },
    {
     "data": {
      "text/html": [
       "<pre>    Data has 7500000 observations with 69139 users and 22209 items.</pre>"
      ],
      "text/plain": [
       "    Data has 7500000 observations with 69139 users and 22209 items."
      ]
     },
     "metadata": {},
     "output_type": "display_data"
    },
    {
     "data": {
      "text/html": [
       "<pre>    Data prepared in: 5.44069s</pre>"
      ],
      "text/plain": [
       "    Data prepared in: 5.44069s"
      ]
     },
     "metadata": {},
     "output_type": "display_data"
    },
    {
     "data": {
      "text/html": [
       "<pre>7500000 observations to process; with 22209 unique items.</pre>"
      ],
      "text/plain": [
       "7500000 observations to process; with 22209 unique items."
      ]
     },
     "metadata": {},
     "output_type": "display_data"
    }
   ],
   "source": [
    "popularity_model = turicreate.popularity_recommender.create(train_data, user_id='userId', item_id='movieId', target='rating')"
   ]
  },
  {
   "cell_type": "code",
   "execution_count": 26,
   "metadata": {},
   "outputs": [
    {
     "name": "stdout",
     "output_type": "stream",
     "text": [
      "+--------+---------+-------+------+\n",
      "| userId | movieId | score | rank |\n",
      "+--------+---------+-------+------+\n",
      "|   1    |  102672 |  5.0  |  1   |\n",
      "|   1    |  127441 |  5.0  |  2   |\n",
      "|   1    |  103871 |  5.0  |  3   |\n",
      "|   1    |  106614 |  5.0  |  4   |\n",
      "|   1    |  33235  |  5.0  |  5   |\n",
      "|   2    |  102672 |  5.0  |  1   |\n",
      "|   2    |  127441 |  5.0  |  2   |\n",
      "|   2    |  103871 |  5.0  |  3   |\n",
      "|   2    |  106614 |  5.0  |  4   |\n",
      "|   2    |  33235  |  5.0  |  5   |\n",
      "|   3    |  102672 |  5.0  |  1   |\n",
      "|   3    |  127441 |  5.0  |  2   |\n",
      "|   3    |  103871 |  5.0  |  3   |\n",
      "|   3    |  106614 |  5.0  |  4   |\n",
      "|   3    |  33235  |  5.0  |  5   |\n",
      "|   4    |  102672 |  5.0  |  1   |\n",
      "|   4    |  127441 |  5.0  |  2   |\n",
      "|   4    |  103871 |  5.0  |  3   |\n",
      "|   4    |  106614 |  5.0  |  4   |\n",
      "|   4    |  33235  |  5.0  |  5   |\n",
      "|   5    |  102672 |  5.0  |  1   |\n",
      "|   5    |  127441 |  5.0  |  2   |\n",
      "|   5    |  103871 |  5.0  |  3   |\n",
      "|   5    |  106614 |  5.0  |  4   |\n",
      "|   5    |  33235  |  5.0  |  5   |\n",
      "+--------+---------+-------+------+\n",
      "[25 rows x 4 columns]\n",
      "\n"
     ]
    }
   ],
   "source": [
    "popularity_recomm = popularity_model.recommend(users=[1,2,3,4,5],k=5)\n",
    "popularity_recomm.print_rows(num_rows=25)"
   ]
  },
  {
   "cell_type": "code",
   "execution_count": 27,
   "metadata": {},
   "outputs": [
    {
     "data": {
      "text/html": [
       "<pre>Warning: Ignoring columns timestamp;</pre>"
      ],
      "text/plain": [
       "Warning: Ignoring columns timestamp;"
      ]
     },
     "metadata": {},
     "output_type": "display_data"
    },
    {
     "data": {
      "text/html": [
       "<pre>    To use these columns in scoring predictions, use a model that allows the use of additional features.</pre>"
      ],
      "text/plain": [
       "    To use these columns in scoring predictions, use a model that allows the use of additional features."
      ]
     },
     "metadata": {},
     "output_type": "display_data"
    },
    {
     "data": {
      "text/html": [
       "<pre>Preparing data set.</pre>"
      ],
      "text/plain": [
       "Preparing data set."
      ]
     },
     "metadata": {},
     "output_type": "display_data"
    },
    {
     "data": {
      "text/html": [
       "<pre>    Data has 7500000 observations with 69139 users and 22209 items.</pre>"
      ],
      "text/plain": [
       "    Data has 7500000 observations with 69139 users and 22209 items."
      ]
     },
     "metadata": {},
     "output_type": "display_data"
    },
    {
     "data": {
      "text/html": [
       "<pre>    Data prepared in: 6.36669s</pre>"
      ],
      "text/plain": [
       "    Data prepared in: 6.36669s"
      ]
     },
     "metadata": {},
     "output_type": "display_data"
    },
    {
     "data": {
      "text/html": [
       "<pre>Training model from provided data.</pre>"
      ],
      "text/plain": [
       "Training model from provided data."
      ]
     },
     "metadata": {},
     "output_type": "display_data"
    },
    {
     "data": {
      "text/html": [
       "<pre>Gathering per-item and per-user statistics.</pre>"
      ],
      "text/plain": [
       "Gathering per-item and per-user statistics."
      ]
     },
     "metadata": {},
     "output_type": "display_data"
    },
    {
     "data": {
      "text/html": [
       "<pre>+--------------------------------+------------+</pre>"
      ],
      "text/plain": [
       "+--------------------------------+------------+"
      ]
     },
     "metadata": {},
     "output_type": "display_data"
    },
    {
     "data": {
      "text/html": [
       "<pre>| Elapsed Time (Item Statistics) | % Complete |</pre>"
      ],
      "text/plain": [
       "| Elapsed Time (Item Statistics) | % Complete |"
      ]
     },
     "metadata": {},
     "output_type": "display_data"
    },
    {
     "data": {
      "text/html": [
       "<pre>+--------------------------------+------------+</pre>"
      ],
      "text/plain": [
       "+--------------------------------+------------+"
      ]
     },
     "metadata": {},
     "output_type": "display_data"
    },
    {
     "data": {
      "text/html": [
       "<pre>| 17.728ms                       | 1.25       |</pre>"
      ],
      "text/plain": [
       "| 17.728ms                       | 1.25       |"
      ]
     },
     "metadata": {},
     "output_type": "display_data"
    },
    {
     "data": {
      "text/html": [
       "<pre>| 334.802ms                      | 100        |</pre>"
      ],
      "text/plain": [
       "| 334.802ms                      | 100        |"
      ]
     },
     "metadata": {},
     "output_type": "display_data"
    },
    {
     "data": {
      "text/html": [
       "<pre>+--------------------------------+------------+</pre>"
      ],
      "text/plain": [
       "+--------------------------------+------------+"
      ]
     },
     "metadata": {},
     "output_type": "display_data"
    },
    {
     "data": {
      "text/html": [
       "<pre>Setting up lookup tables.</pre>"
      ],
      "text/plain": [
       "Setting up lookup tables."
      ]
     },
     "metadata": {},
     "output_type": "display_data"
    },
    {
     "data": {
      "text/html": [
       "<pre>Processing data in one pass using dense lookup tables.</pre>"
      ],
      "text/plain": [
       "Processing data in one pass using dense lookup tables."
      ]
     },
     "metadata": {},
     "output_type": "display_data"
    },
    {
     "data": {
      "text/html": [
       "<pre>+-------------------------------------+------------------+-----------------+</pre>"
      ],
      "text/plain": [
       "+-------------------------------------+------------------+-----------------+"
      ]
     },
     "metadata": {},
     "output_type": "display_data"
    },
    {
     "data": {
      "text/html": [
       "<pre>| Elapsed Time (Constructing Lookups) | Total % Complete | Items Processed |</pre>"
      ],
      "text/plain": [
       "| Elapsed Time (Constructing Lookups) | Total % Complete | Items Processed |"
      ]
     },
     "metadata": {},
     "output_type": "display_data"
    },
    {
     "data": {
      "text/html": [
       "<pre>+-------------------------------------+------------------+-----------------+</pre>"
      ],
      "text/plain": [
       "+-------------------------------------+------------------+-----------------+"
      ]
     },
     "metadata": {},
     "output_type": "display_data"
    },
    {
     "data": {
      "text/html": [
       "<pre>| 2.69s                               | 0                | 1               |</pre>"
      ],
      "text/plain": [
       "| 2.69s                               | 0                | 1               |"
      ]
     },
     "metadata": {},
     "output_type": "display_data"
    },
    {
     "data": {
      "text/html": [
       "<pre>| 5.71s                               | 7.75             | 1749            |</pre>"
      ],
      "text/plain": [
       "| 5.71s                               | 7.75             | 1749            |"
      ]
     },
     "metadata": {},
     "output_type": "display_data"
    },
    {
     "data": {
      "text/html": [
       "<pre>| 8.70s                               | 22.5             | 5024            |</pre>"
      ],
      "text/plain": [
       "| 8.70s                               | 22.5             | 5024            |"
      ]
     },
     "metadata": {},
     "output_type": "display_data"
    },
    {
     "data": {
      "text/html": [
       "<pre>| 11.71s                              | 31.75            | 7075            |</pre>"
      ],
      "text/plain": [
       "| 11.71s                              | 31.75            | 7075            |"
      ]
     },
     "metadata": {},
     "output_type": "display_data"
    },
    {
     "data": {
      "text/html": [
       "<pre>| 14.71s                              | 44.75            | 9975            |</pre>"
      ],
      "text/plain": [
       "| 14.71s                              | 44.75            | 9975            |"
      ]
     },
     "metadata": {},
     "output_type": "display_data"
    },
    {
     "data": {
      "text/html": [
       "<pre>| 17.70s                              | 55.75            | 12419           |</pre>"
      ],
      "text/plain": [
       "| 17.70s                              | 55.75            | 12419           |"
      ]
     },
     "metadata": {},
     "output_type": "display_data"
    },
    {
     "data": {
      "text/html": [
       "<pre>| 20.70s                              | 70.75            | 15740           |</pre>"
      ],
      "text/plain": [
       "| 20.70s                              | 70.75            | 15740           |"
      ]
     },
     "metadata": {},
     "output_type": "display_data"
    },
    {
     "data": {
      "text/html": [
       "<pre>| 23.70s                              | 88               | 19595           |</pre>"
      ],
      "text/plain": [
       "| 23.70s                              | 88               | 19595           |"
      ]
     },
     "metadata": {},
     "output_type": "display_data"
    },
    {
     "data": {
      "text/html": [
       "<pre>| 29.77s                              | 100              | 22209           |</pre>"
      ],
      "text/plain": [
       "| 29.77s                              | 100              | 22209           |"
      ]
     },
     "metadata": {},
     "output_type": "display_data"
    },
    {
     "data": {
      "text/html": [
       "<pre>+-------------------------------------+------------------+-----------------+</pre>"
      ],
      "text/plain": [
       "+-------------------------------------+------------------+-----------------+"
      ]
     },
     "metadata": {},
     "output_type": "display_data"
    },
    {
     "data": {
      "text/html": [
       "<pre>Finalizing lookup tables.</pre>"
      ],
      "text/plain": [
       "Finalizing lookup tables."
      ]
     },
     "metadata": {},
     "output_type": "display_data"
    },
    {
     "data": {
      "text/html": [
       "<pre>Generating candidate set for working with new users.</pre>"
      ],
      "text/plain": [
       "Generating candidate set for working with new users."
      ]
     },
     "metadata": {},
     "output_type": "display_data"
    },
    {
     "data": {
      "text/html": [
       "<pre>Finished training in 31.0533s</pre>"
      ],
      "text/plain": [
       "Finished training in 31.0533s"
      ]
     },
     "metadata": {},
     "output_type": "display_data"
    }
   ],
   "source": [
    "item_sim_model = turicreate.item_similarity_recommender.create(train_data, user_id='userId', item_id='movieId', target='rating', similarity_type='cosine')"
   ]
  },
  {
   "cell_type": "code",
   "execution_count": 28,
   "metadata": {},
   "outputs": [
    {
     "name": "stdout",
     "output_type": "stream",
     "text": [
      "+--------+---------+--------------------+------+\n",
      "| userId | movieId |       score        | rank |\n",
      "+--------+---------+--------------------+------+\n",
      "|   1    |   1270  | 0.6336016173715945 |  1   |\n",
      "|   1    |   2571  | 0.6046816808206064 |  2   |\n",
      "|   1    |   1240  | 0.5524428813545792 |  3   |\n",
      "|   1    |   1580  | 0.5313641437777766 |  4   |\n",
      "|   1    |   1136  |  0.49321443328151  |  5   |\n",
      "|   2    |   1240  | 0.6777224845664446 |  1   |\n",
      "|   2    |   1200  | 0.566269455954086  |  2   |\n",
      "|   2    |   2571  | 0.5646837575491085 |  3   |\n",
      "|   2    |   1198  | 0.5489348755326382 |  4   |\n",
      "|   2    |   2916  | 0.546562208685764  |  5   |\n",
      "|   3    |   1196  | 0.9207768905162811 |  1   |\n",
      "|   3    |   1265  | 0.713621248404185  |  2   |\n",
      "|   3    |   2716  | 0.7112339862187703 |  3   |\n",
      "|   3    |   1291  | 0.7095886198679606 |  4   |\n",
      "|   3    |   1580  | 0.697670780022939  |  5   |\n",
      "|   4    |   377   | 1.210067171942104  |  1   |\n",
      "|   4    |   592   | 1.127517201683738  |  2   |\n",
      "|   4    |   457   | 1.1182535019787876 |  3   |\n",
      "|   4    |   356   | 1.084694586016915  |  4   |\n",
      "|   4    |   150   | 1.0269820175387643 |  5   |\n",
      "|   5    |   356   | 1.133946113012455  |  1   |\n",
      "|   5    |   597   | 0.9509007864528232 |  2   |\n",
      "|   5    |   589   | 0.9432453215122223 |  3   |\n",
      "|   5    |   780   | 0.9024144344859653 |  4   |\n",
      "|   5    |   539   | 0.8985821339819167 |  5   |\n",
      "+--------+---------+--------------------+------+\n",
      "[25 rows x 4 columns]\n",
      "\n"
     ]
    }
   ],
   "source": [
    "item_sim_recomm = item_sim_model.recommend(users=[1,2,3,4,5],k=5)\n",
    "item_sim_recomm.print_rows(num_rows=25)"
   ]
  },
  {
   "cell_type": "code",
   "execution_count": null,
   "metadata": {},
   "outputs": [],
   "source": []
  }
 ],
 "metadata": {
  "kernelspec": {
   "display_name": "Python 3",
   "language": "python",
   "name": "python3"
  },
  "language_info": {
   "codemirror_mode": {
    "name": "ipython",
    "version": 3
   },
   "file_extension": ".py",
   "mimetype": "text/x-python",
   "name": "python",
   "nbconvert_exporter": "python",
   "pygments_lexer": "ipython3",
   "version": "3.8.8"
  }
 },
 "nbformat": 4,
 "nbformat_minor": 4
}
